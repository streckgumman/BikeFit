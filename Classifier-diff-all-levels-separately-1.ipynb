{
 "cells": [
  {
   "cell_type": "code",
   "execution_count": 5,
   "id": "871cf589",
   "metadata": {},
   "outputs": [],
   "source": [
    "# all imports\n",
    "from bs4 import BeautifulSoup as bs\n",
    "import numpy as np\n",
    "import pandas as pd\n",
    "import matplotlib.pyplot as plt\n",
    "import seaborn as sns\n",
    "plt.style.use('seaborn-whitegrid')\n",
    "from sklearn.preprocessing import StandardScaler\n",
    "import os\n",
    "import time\n",
    "\n",
    "from sklearn.svm import SVC\n",
    "from sklearn.linear_model import LogisticRegression\n",
    "from sklearn.neighbors import KNeighborsClassifier\n",
    "from sklearn.ensemble import RandomForestClassifier\n",
    "from sklearn.impute import SimpleImputer\n",
    "from sklearn.model_selection import train_test_split\n",
    "from sklearn.metrics import confusion_matrix, accuracy_score, classification_report\n",
    "from sklearn.naive_bayes import GaussianNB\n",
    "from xgboost import XGBClassifier\n",
    "from sklearn.model_selection import cross_val_score\n",
    "from sklearn.inspection import permutation_importance\n",
    "from sklearn.metrics import ConfusionMatrixDisplay\n",
    "\n",
    "import warnings\n",
    "warnings.filterwarnings(\"ignore\")\n",
    "\n",
    "import torch\n",
    "import torch.nn as nn\n",
    "import torch.optim as optim\n",
    "import torch.nn.functional as F\n",
    "\n",
    "import torchvision\n",
    "import torchvision.transforms as transforms\n",
    "from torchvision.transforms import Compose, ToTensor,Resize,ColorJitter,CenterCrop,Grayscale\n",
    "import torchvision.models as models\n",
    "\n",
    "from torch.utils.data import DataLoader, TensorDataset, random_split, Dataset"
   ]
  },
  {
   "cell_type": "code",
   "execution_count": 6,
   "id": "608a015e",
   "metadata": {},
   "outputs": [],
   "source": [
    "# defining functions\n",
    "\n",
    "# reads xml-data\n",
    "def read_data(file):\n",
    "    with open(file, 'r') as f:\n",
    "        data = f.read()\n",
    "    bs_data = bs(data, 'xml') \n",
    "    return bs_data\n",
    "\n",
    "\n",
    "# gets the bname for calculations\n",
    "def get_bname(path):\n",
    "    for xml_file in os.listdir(path):\n",
    "        if xml_file.startswith(\"timeseries\"):\n",
    "            bs_data = read_data(path + xml_file)\n",
    "            b_name = bs_data.find_all('name')\n",
    "            return b_name    \n",
    "\n",
    "\n",
    "# returns a dataframe given some data\n",
    "def values_df(bs_data, low, high):\n",
    "    b_name = bs_data.find_all('name')\n",
    "    attributes = []\n",
    "    # finds all values \n",
    "    for i in range(len(b_name)):\n",
    "        attributes.append(b_name[i].get('value'))\n",
    "\n",
    "    attributes = list(attributes)\n",
    "    collection = {}\n",
    "    \n",
    "    # finds x-, y- and z-values and computes euclidian distance\n",
    "    for i in range(low, high):\n",
    "        r = calc(b_name, i)\n",
    "        collection[attributes[i]] = r\n",
    "\n",
    "    df = pd.DataFrame(collection)\n",
    "    return df\n",
    "\n",
    "\n",
    "# calculates the euclidian values\n",
    "def calc(b_name, i):\n",
    "    a1 = b_name[i].find_all('component')[0].get('data')\n",
    "    b1 = b_name[i].find_all('component')[1].get('data')\n",
    "    c1 = b_name[i].find_all('component')[2].get('data')\n",
    "    x = np.asarray([float(x) for x in a1.split(',')])\n",
    "    y = np.asarray([float(y) for y in b1.split(',')])\n",
    "    z = np.asarray([float(z) for z in c1.split(',')])\n",
    "    r = (x**2 + y**2 + z**2)**0.5\n",
    "    return r\n",
    "\n",
    "\n",
    "# calculates difference between max and min \n",
    "def get_differences_values(path, low, high):\n",
    "    i = 0\n",
    "    diff_list = []\n",
    "    \n",
    "    for xml_file in os.listdir(path):\n",
    "        if xml_file.startswith(\"timeseries\"):\n",
    "            try:\n",
    "                bs_data = read_data(path + xml_file)\n",
    "                b_name = bs_data.find_all('name')\n",
    "                \n",
    "                # fix since these values for some reason don't work when passed as arguments\n",
    "                if low >= 3*int(len(b_name)/4):\n",
    "                    low = 3*int(len(b_name)/4)\n",
    "                    high = int(len(b_name))\n",
    "                    \n",
    "                df1 = values_df(bs_data, low, high)\n",
    "\n",
    "                df_max = pd.DataFrame(df1.max().to_dict(),index=[df1.index.values[-1]])\n",
    "                df_min = pd.DataFrame(df1.min().to_dict(),index=[df1.index.values[-1]])\n",
    "                df1 = df_max.subtract(df_min, fill_value=0)\n",
    "                df1 = df1.rename(index={100:i})\n",
    "\n",
    "                diff_list.append(df1)\n",
    "                i+=1\n",
    "            except:\n",
    "                 print(xml_file + \" failed to compute\")\n",
    "        else:\n",
    "            continue\n",
    "            \n",
    "    if \"healthy\" in path.lower():\n",
    "        injurylevel = [0 for i in range(len(diff_list))]\n",
    "    else: \n",
    "        injurylevel = [1 for i in range(len(diff_list))]\n",
    "    data_level1 = pd.concat(diff_list)\n",
    "    data_level1['Injury level'] = injurylevel\n",
    "    print(f\"Length of how many timeseries-files of {path} people we have between files {low} and {high}: {i}\")\n",
    "\n",
    "    return data_level1\n",
    "\n",
    "\n",
    "# gets accuracy of the algorithms\n",
    "\n",
    "def get_accuracy(algorithm, data, test_size):\n",
    "    if algorithm == KNeighborsClassifier:\n",
    "        classifier = KNeighborsClassifier(n_neighbors = 5, metric = 'minkowski', p = 2)\n",
    "    elif algorithm == RandomForestClassifier:\n",
    "        classifier = RandomForestClassifier(n_estimators = 10, criterion = 'entropy')\n",
    "    else:\n",
    "        classifier = algorithm()\n",
    "    y = data['Injury level']\n",
    "    y = pd.DataFrame(y, columns = ['Injury level'])\n",
    "    X = data.drop(['Injury level'], axis = 1)\n",
    "\n",
    "    X_train, X_test, y_train, y_test = train_test_split(X, y, test_size = test_size)\n",
    "    my_imputer = SimpleImputer()\n",
    "    imputed_X_train = pd.DataFrame(my_imputer.fit_transform(X_train))\n",
    "    imputed_X_test = pd.DataFrame(my_imputer.transform(X_test))\n",
    "\n",
    "    imputed_X_train.columns = X_train.columns\n",
    "    imputed_X_test.columns = X_test.columns\n",
    "\n",
    "    sc = StandardScaler()\n",
    "    X_train = sc.fit_transform(imputed_X_train)\n",
    "    X_test = sc.transform(imputed_X_test)\n",
    "    \n",
    "    classifier.fit(X_train, y_train)\n",
    "    \n",
    "    y_pred = classifier.predict(X_test)\n",
    "    score = accuracy_score(y_test, y_pred)\n",
    "    return score\n",
    "\n",
    "# creating custom datasets\n",
    "\n",
    "class TrainData(Dataset):\n",
    "    \n",
    "    def __init__(self, X_data, y_data):\n",
    "        self.X_data = X_data\n",
    "        self.y_data = y_data\n",
    "        \n",
    "    def __getitem__(self, index):\n",
    "        return self.X_data[index], self.y_data[index]\n",
    "        \n",
    "    def __len__ (self):\n",
    "        return len(self.X_data)\n",
    "\n",
    "\n",
    "class TestData(Dataset):\n",
    "    \n",
    "    def __init__(self, X_data):\n",
    "        self.X_data = X_data\n",
    "        \n",
    "    def __getitem__(self, index):\n",
    "        return self.X_data[index]\n",
    "        \n",
    "    def __len__ (self):\n",
    "        return len(self.X_data)\n",
    "    \n",
    "def get_attributes():\n",
    "    # get the attributes\n",
    "    path = \"USE THIS/PFPS/\"\n",
    "    xml_file = 'timeseries-11.xml'\n",
    "    bs_data = read_data(path+xml_file)\n",
    "    b_name = bs_data.find_all('name')\n",
    "\n",
    "    attributes = []\n",
    "    for i in range(len(b_name)):\n",
    "        attributes.append(b_name[i].get('value'))\n",
    "\n",
    "    attributes = list(set(attributes))\n",
    "    return attributes\n",
    "    \n",
    "\n",
    "# returns probability of a person having PFPS\n",
    "def binary_acc(y_pred, y_test):\n",
    "    y_pred_tag = torch.round(torch.sigmoid(y_pred))\n",
    "    \n",
    "    if y_pred_tag == y_test:\n",
    "        return True\n",
    "    else:\n",
    "        return False\n",
    "\n",
    "class Network(nn.Module):\n",
    "    def __init__(self):\n",
    "        super().__init__()\n",
    "        self.fc1 = nn.Linear(in_features = 32, out_features = 16)\n",
    "        self.fc2 = nn.Linear(in_features = 16, out_features = 8)\n",
    "        self.out = nn.Linear(in_features = 8, out_features = 1)\n",
    "        \n",
    "    def forward(self, t):\n",
    "        t = t\n",
    "        \n",
    "        t = self.fc1(t)\n",
    "        t = F.relu(t)\n",
    "        \n",
    "        t = self.fc2(t)\n",
    "        t = F.relu(t)\n",
    "        \n",
    "        t = self.out(t)\n",
    "        \n",
    "        return t\n"
   ]
  },
  {
   "cell_type": "markdown",
   "id": "cf4e2e32",
   "metadata": {},
   "source": [
    "## Preprocessing the data\n",
    "\n",
    "Calculating the differences between the max and min-values in each attribute for each person in the four power levels."
   ]
  },
  {
   "cell_type": "code",
   "execution_count": 7,
   "id": "6913cace",
   "metadata": {},
   "outputs": [
    {
     "name": "stdout",
     "output_type": "stream",
     "text": [
      "Length of how many timeseries-files of usethis/Healthy/ people we have between files 0 and 32: 20\n",
      "Length of how many timeseries-files of usethis/Healthy/ people we have between files 32 and 64: 20\n",
      "Length of how many timeseries-files of usethis/Healthy/ people we have between files 64 and 96: 20\n",
      "Length of how many timeseries-files of usethis/Healthy/ people we have between files 93 and 126: 20\n",
      "Length of how many timeseries-files of usethis/PFPS/ people we have between files 0 and 32: 20\n",
      "Length of how many timeseries-files of usethis/PFPS/ people we have between files 32 and 64: 20\n",
      "Length of how many timeseries-files of usethis/PFPS/ people we have between files 64 and 96: 20\n",
      "Length of how many timeseries-files of usethis/PFPS/ people we have between files 93 and 125: 20\n"
     ]
    }
   ],
   "source": [
    "# calculate the four power levels for healthy people:\n",
    "\n",
    "path = \"usethis/Healthy/\"\n",
    "\n",
    "b_name = get_bname(path)\n",
    "\n",
    "diff_list1 = get_differences_values(path, 0, int(len(b_name)/4))\n",
    "diff_list2 = get_differences_values(path, int(len(b_name)/4), int(len(b_name)/2))\n",
    "diff_list3 = get_differences_values(path, int(len(b_name)/2), int(3*len(b_name)/4))\n",
    "diff_list4 = get_differences_values(path, int(3*len(b_name)/4), int(len(b_name)))\n",
    "\n",
    "\n",
    "# calculate the four power levels for injured people:\n",
    "\n",
    "path = \"usethis/PFPS/\"\n",
    "\n",
    "diff_list_injured1 = get_differences_values(path, 0, int(len(b_name)/4))\n",
    "diff_list_injured2 = get_differences_values(path, int(len(b_name)/4), int(len(b_name)/2))\n",
    "diff_list_injured3 = get_differences_values(path, int(len(b_name)/2), int(3*len(b_name)/4))\n",
    "diff_list_injured4 = get_differences_values(path, int(3*len(b_name)/4), len(b_name))\n",
    "\n",
    "\n",
    "# combine the data into the same dataframes\n",
    "\n",
    "df_healthy = pd.concat([diff_list1, diff_list2, diff_list3, diff_list4])\n",
    "df_pfps = pd.concat([diff_list_injured1, diff_list_injured2, diff_list_injured3, diff_list_injured4])\n",
    "df_combined = pd.concat([df_healthy, df_pfps])\n",
    "\n",
    "data3_level1 = pd.concat([diff_list1, diff_list_injured1]).reset_index(drop = True)\n",
    "data3_level2 = pd.concat([diff_list2, diff_list_injured2]).reset_index(drop = True)\n",
    "data3_level3 = pd.concat([diff_list3, diff_list_injured3]).reset_index(drop = True)\n",
    "data3_level4 = pd.concat([diff_list4, diff_list_injured4]).reset_index(drop = True)\n"
   ]
  },
  {
   "cell_type": "markdown",
   "id": "752ed3ec",
   "metadata": {},
   "source": [
    "## Preprocessing the data\n",
    "\n",
    "Dividing the data into training and test data. "
   ]
  },
  {
   "cell_type": "code",
   "execution_count": 8,
   "id": "7e0dd27e",
   "metadata": {},
   "outputs": [],
   "source": [
    "def get_ml_data(df_healthy, df_pfps):\n",
    "    df_combined = pd.concat([df_healthy, df_pfps])\n",
    "\n",
    "    y = df_combined['Injury level']\n",
    "    y = pd.DataFrame(y, columns = ['Injury level'])\n",
    "    X = df_combined.drop(['Injury level'], axis = 1)\n",
    "\n",
    "    X_train, X_test, y_train, y_test = train_test_split(X, y, test_size = 0.20)\n",
    "    return X, X_test, X_train, y_test, y_train"
   ]
  },
  {
   "cell_type": "code",
   "execution_count": 12,
   "id": "4dbe035a",
   "metadata": {},
   "outputs": [
    {
     "name": "stdout",
     "output_type": "stream",
     "text": [
      "    Injury level\n",
      "3              0\n",
      "12             1\n",
      "16             1\n",
      "6              1\n",
      "16             0\n",
      "17             1\n",
      "9              1\n",
      "3              1\n",
      "13             1\n",
      "19             1\n",
      "3              0\n",
      "4              0\n",
      "8              1\n",
      "15             0\n",
      "17             1\n",
      "4              0\n",
      "19             0\n",
      "4              1\n",
      "16             1\n",
      "10             0\n",
      "19             0\n",
      "12             0\n",
      "9              1\n",
      "10             1\n",
      "5              0\n",
      "12             1\n",
      "15             1\n",
      "19             0\n",
      "7              1\n",
      "1              1\n",
      "19             0\n",
      "3              0\n",
      "[[-0.50891077  0.77708066 -0.09253942 ...  0.91371615 -0.21560374\n",
      "  -0.7011647 ]\n",
      " [-0.53852933 -0.43738542 -0.2300311  ...  0.48585419 -0.63212193\n",
      "  -0.37133991]\n",
      " [ 0.10227792  0.58708037 -0.40657021 ... -0.73052623 -0.88836155\n",
      "  -0.26019857]\n",
      " ...\n",
      " [-0.81696929 -0.57418283  0.13763307 ... -0.11611991 -0.75960077\n",
      "  -0.46703736]\n",
      " [-0.48189132 -0.07564178 -0.18104416 ... -2.26218963 -0.1474643\n",
      "   0.2177767 ]\n",
      " [ 0.58358095  1.34847611 -0.02989526 ...  1.71890839  1.49552244\n",
      "   0.89958395]]\n"
     ]
    }
   ],
   "source": [
    "X, X_test, X_train, y_test, y_train = get_ml_data(df_healthy, df_pfps)\n",
    "\n",
    "X1, X_test1, X_train1, y_test1, y_train1 = get_ml_data(diff_list1, diff_list_injured1)\n",
    "X2, X_test2, X_train2, y_test2, y_train2 = get_ml_data(diff_list2, diff_list_injured2)\n",
    "X3, X_test3, X_train3, y_test3, y_train3 = get_ml_data(diff_list3, diff_list_injured3)\n",
    "X4, X_test4, X_train4, y_test4, y_train4 = get_ml_data(diff_list4, diff_list_injured4)\n",
    "\n",
    "def get_X_data(X_test, X_train):\n",
    "    \n",
    "\n",
    "    my_imputer = SimpleImputer()\n",
    "    imputed_X_train = pd.DataFrame(my_imputer.fit_transform(X_train))\n",
    "    imputed_X_test = pd.DataFrame(my_imputer.transform(X_test))\n",
    "\n",
    "    imputed_X_train.columns = X_train.columns\n",
    "    imputed_X_test.columns = X_test.columns\n",
    "\n",
    "    sc = StandardScaler()\n",
    "    X_train = sc.fit_transform(imputed_X_train)\n",
    "    X_test = sc.transform(imputed_X_test)\n",
    "    \n",
    "    return X_train, X_test\n",
    "\n",
    "X_train, X_test = get_X_data(X_test, X_train)\n",
    "\n",
    "X_train1, X_test1 = get_X_data(X_test1, X_train1)\n",
    "X_train2, X_test2 = get_X_data(X_test2, X_train2)\n",
    "X_train3, X_test3 = get_X_data(X_test3, X_train3)\n",
    "X_train4, X_test4 = get_X_data(X_test4, X_train4)\n",
    "\n",
    "data_list = [(X_test1, X_train1, y_train1, y_test1, 1), \n",
    "             (X_test2, X_train2, y_train2, y_test2, 2), \n",
    "             (X_test3, X_train3, y_train3, y_test3, 3), \n",
    "             (X_test4, X_train4, y_train4, y_test4, 4),\n",
    "             (X_test, X_train, y_train, y_test, \"ALL\")]"
   ]
  },
  {
   "cell_type": "markdown",
   "id": "80ff76af",
   "metadata": {},
   "source": [
    "## Logistic regression\n",
    "\n",
    "Calculates the confusion matrix, accuracy score and cross-validation scores using scikit-learn.\n",
    "\n",
    "For further documentation please see [scikit-learn documentation](https://scikit-learn.org/stable/)"
   ]
  },
  {
   "cell_type": "code",
   "execution_count": 62,
   "id": "1e569983",
   "metadata": {},
   "outputs": [
    {
     "name": "stdout",
     "output_type": "stream",
     "text": [
      "Logistic Regression at level 1\n",
      "=====================================\n",
      "The accuracy score is: 0.25\n",
      "The confusion matrix at level 1 is: \n",
      " [[1 3]\n",
      " [3 1]]\n",
      "The cv scores at level 1 are [0.5        0.75       0.66666667 0.66666667 0.66666667 1.\n",
      " 0.66666667 0.         0.66666667 0.66666667]\n",
      "The mean accuracy of cv: 0.625\n"
     ]
    },
    {
     "data": {
      "image/png": "[encoded data removed]",
      "text/plain": [
       "<Figure size 432x288 with 2 Axes>"
      ]
     },
     "metadata": {},
     "output_type": "display_data"
    },
    {
     "name": "stdout",
     "output_type": "stream",
     "text": [
      "Logistic Regression at level 2\n",
      "=====================================\n",
      "The accuracy score is: 0.625\n",
      "The confusion matrix at level 2 is: \n",
      " [[1 2]\n",
      " [1 4]]\n",
      "The cv scores at level 2 are [0.75       0.75       1.         0.66666667 1.         1.\n",
      " 1.         0.66666667 0.66666667 0.        ]\n",
      "The mean accuracy of cv: 0.75\n"
     ]
    },
    {
     "data": {
      "image/png": "[encoded data removed]",
      "text/plain": [
       "<Figure size 432x288 with 2 Axes>"
      ]
     },
     "metadata": {},
     "output_type": "display_data"
    },
    {
     "name": "stdout",
     "output_type": "stream",
     "text": [
      "Logistic Regression at level 3\n",
      "=====================================\n",
      "The accuracy score is: 0.625\n",
      "The confusion matrix at level 3 is: \n",
      " [[1 1]\n",
      " [2 4]]\n",
      "The cv scores at level 3 are [0.75       0.5        0.33333333 0.66666667 1.         1.\n",
      " 0.66666667 0.33333333 0.33333333 0.33333333]\n",
      "The mean accuracy of cv: 0.5916666666666666\n"
     ]
    },
    {
     "data": {
      "image/png": "[encoded data removed]",
      "text/plain": [
       "<Figure size 432x288 with 2 Axes>"
      ]
     },
     "metadata": {},
     "output_type": "display_data"
    },
    {
     "name": "stdout",
     "output_type": "stream",
     "text": [
      "Logistic Regression at level 4\n",
      "=====================================\n",
      "The accuracy score is: 0.75\n",
      "The confusion matrix at level 4 is: \n",
      " [[4 1]\n",
      " [1 2]]\n",
      "The cv scores at level 4 are [0.5        0.75       0.66666667 0.33333333 0.33333333 1.\n",
      " 0.33333333 0.         0.33333333 0.        ]\n",
      "The mean accuracy of cv: 0.425\n"
     ]
    },
    {
     "data": {
      "image/png": "[encoded data removed]",
      "text/plain": [
       "<Figure size 432x288 with 2 Axes>"
      ]
     },
     "metadata": {},
     "output_type": "display_data"
    },
    {
     "name": "stdout",
     "output_type": "stream",
     "text": [
      "Logistic Regression at level ALL\n",
      "=====================================\n",
      "The accuracy score is: 0.78125\n",
      "The confusion matrix at level ALL is: \n",
      " [[18  4]\n",
      " [ 3  7]]\n",
      "The cv scores at level ALL are [0.76923077 0.84615385 1.         0.92307692 0.84615385 0.84615385\n",
      " 0.92307692 0.76923077 0.66666667 1.        ]\n",
      "The mean accuracy of cv: 0.8589743589743591\n"
     ]
    },
    {
     "data": {
      "image/png": "[encoded data removed]",
      "text/plain": [
       "<Figure size 432x288 with 2 Axes>"
      ]
     },
     "metadata": {},
     "output_type": "display_data"
    }
   ],
   "source": [
    "# Logistic Regression\n",
    "def log_reg(X_test, X_train, y_train, y_test, level):\n",
    "    classifier = LogisticRegression(C = 10, penalty = 'l2', solver = 'liblinear', random_state = 0)\n",
    "    classifier.fit(X_train, y_train)\n",
    "    \n",
    "    # MAKE PREDICTION\n",
    "    y_pred = classifier.predict(X_test)\n",
    "    score1 = accuracy_score(y_test, y_pred)\n",
    "    print(f\"Logistic Regression at level {level}\")\n",
    "    print(\"=====================================\")\n",
    "    print(f\"The accuracy score is: {score1}\")\n",
    "    \n",
    "    # Confusion matrix\n",
    "    cm = confusion_matrix(y_test, y_pred)\n",
    "    print(f\"The confusion matrix at level {level} is: \\n {cm}\")\n",
    "    \n",
    "    # Cross validation\n",
    "    scores = cross_val_score(classifier, X_train, y_train, cv=10)\n",
    "    print(f\"The cv scores at level {level} are {scores}\")\n",
    "    print(f\"The mean accuracy of cv: {np.mean(cross_val_score(classifier, X_train, y_train, cv=10))}\")\n",
    "    \n",
    "    #y_pred = classifier.predict(X_test)\n",
    "    ConfusionMatrixDisplay.from_predictions(y_test, y_pred)\n",
    "    plt.show()\n",
    "\n",
    "    \n",
    "for (X_test, X_train, y_train, y_test, level) in data_list:\n",
    "    log_reg(X_test, X_train, y_train, y_test, level)"
   ]
  },
  {
   "cell_type": "markdown",
   "id": "35ae8d8d",
   "metadata": {},
   "source": [
    "## Random Forest"
   ]
  },
  {
   "cell_type": "code",
   "execution_count": 71,
   "id": "b0f7c114",
   "metadata": {},
   "outputs": [
    {
     "name": "stdout",
     "output_type": "stream",
     "text": [
      "Logistic Regression at level 1\n",
      "=====================================\n",
      "The accuracy score is: 0.375\n",
      "The confusion matrix at level 1 is: \n",
      " [[2 2]\n",
      " [3 1]]\n",
      "The cv scores at level 1 are [0.5        0.75       0.66666667 0.33333333 0.66666667 1.\n",
      " 0.66666667 0.         0.66666667 0.66666667]\n",
      "The mean accuracy of cv: 0.5583333333333333\n"
     ]
    },
    {
     "data": {
      "image/png": "[encoded data removed]",
      "text/plain": [
       "<Figure size 432x288 with 2 Axes>"
      ]
     },
     "metadata": {},
     "output_type": "display_data"
    },
    {
     "name": "stdout",
     "output_type": "stream",
     "text": [
      "Logistic Regression at level 2\n",
      "=====================================\n",
      "The accuracy score is: 0.625\n",
      "The confusion matrix at level 2 is: \n",
      " [[2 1]\n",
      " [2 3]]\n",
      "The cv scores at level 2 are [0.5        0.5        1.         0.66666667 0.         1.\n",
      " 0.66666667 1.         0.66666667 0.66666667]\n",
      "The mean accuracy of cv: 0.6333333333333333\n"
     ]
    },
    {
     "data": {
      "image/png": "[encoded data removed]",
      "text/plain": [
       "<Figure size 432x288 with 2 Axes>"
      ]
     },
     "metadata": {},
     "output_type": "display_data"
    },
    {
     "name": "stdout",
     "output_type": "stream",
     "text": [
      "Logistic Regression at level 3\n",
      "=====================================\n",
      "The accuracy score is: 0.5\n",
      "The confusion matrix at level 3 is: \n",
      " [[1 1]\n",
      " [3 3]]\n",
      "The cv scores at level 3 are [0.5        0.25       1.         0.33333333 0.66666667 0.66666667\n",
      " 1.         0.         0.33333333 0.33333333]\n",
      "The mean accuracy of cv: 0.5083333333333332\n"
     ]
    },
    {
     "data": {
      "image/png": "[encoded data removed]",
      "text/plain": [
       "<Figure size 432x288 with 2 Axes>"
      ]
     },
     "metadata": {},
     "output_type": "display_data"
    },
    {
     "name": "stdout",
     "output_type": "stream",
     "text": [
      "Logistic Regression at level 4\n",
      "=====================================\n",
      "The accuracy score is: 0.75\n",
      "The confusion matrix at level 4 is: \n",
      " [[3 2]\n",
      " [0 3]]\n",
      "The cv scores at level 4 are [0.5        0.75       0.33333333 0.66666667 0.         0.66666667\n",
      " 0.33333333 0.66666667 0.33333333 0.33333333]\n",
      "The mean accuracy of cv: 0.4916666666666666\n"
     ]
    },
    {
     "data": {
      "image/png": "[encoded data removed]",
      "text/plain": [
       "<Figure size 432x288 with 2 Axes>"
      ]
     },
     "metadata": {},
     "output_type": "display_data"
    },
    {
     "name": "stdout",
     "output_type": "stream",
     "text": [
      "Logistic Regression at level ALL\n",
      "=====================================\n",
      "The accuracy score is: 0.8125\n",
      "The confusion matrix at level ALL is: \n",
      " [[18  4]\n",
      " [ 2  8]]\n",
      "The cv scores at level ALL are [0.84615385 1.         0.84615385 0.92307692 0.76923077 0.76923077\n",
      " 0.92307692 0.92307692 1.         0.83333333]\n",
      "The mean accuracy of cv: 0.8916666666666666\n"
     ]
    },
    {
     "data": {
      "image/png": "[encoded data removed]",
      "text/plain": [
       "<Figure size 432x288 with 2 Axes>"
      ]
     },
     "metadata": {},
     "output_type": "display_data"
    },
    {
     "name": "stderr",
     "output_type": "stream",
     "text": [
      "/Users/albinekstrom/Documents/GitHub/BikeFit/venv/lib/python3.7/site-packages/sklearn/neighbors/_classification.py:198: DataConversionWarning: A column-vector y was passed when a 1d array was expected. Please change the shape of y to (n_samples,), for example using ravel().\n",
      "  return self._fit(X, y)\n",
      "/Users/albinekstrom/Documents/GitHub/BikeFit/venv/lib/python3.7/site-packages/sklearn/neighbors/_classification.py:198: DataConversionWarning: A column-vector y was passed when a 1d array was expected. Please change the shape of y to (n_samples,), for example using ravel().\n",
      "  return self._fit(X, y)\n",
      "/Users/albinekstrom/Documents/GitHub/BikeFit/venv/lib/python3.7/site-packages/sklearn/neighbors/_classification.py:198: DataConversionWarning: A column-vector y was passed when a 1d array was expected. Please change the shape of y to (n_samples,), for example using ravel().\n",
      "  return self._fit(X, y)\n",
      "/Users/albinekstrom/Documents/GitHub/BikeFit/venv/lib/python3.7/site-packages/sklearn/neighbors/_classification.py:198: DataConversionWarning: A column-vector y was passed when a 1d array was expected. Please change the shape of y to (n_samples,), for example using ravel().\n",
      "  return self._fit(X, y)\n",
      "/Users/albinekstrom/Documents/GitHub/BikeFit/venv/lib/python3.7/site-packages/sklearn/neighbors/_classification.py:198: DataConversionWarning: A column-vector y was passed when a 1d array was expected. Please change the shape of y to (n_samples,), for example using ravel().\n",
      "  return self._fit(X, y)\n",
      "/Users/albinekstrom/Documents/GitHub/BikeFit/venv/lib/python3.7/site-packages/sklearn/neighbors/_classification.py:198: DataConversionWarning: A column-vector y was passed when a 1d array was expected. Please change the shape of y to (n_samples,), for example using ravel().\n",
      "  return self._fit(X, y)\n",
      "/Users/albinekstrom/Documents/GitHub/BikeFit/venv/lib/python3.7/site-packages/sklearn/neighbors/_classification.py:198: DataConversionWarning: A column-vector y was passed when a 1d array was expected. Please change the shape of y to (n_samples,), for example using ravel().\n",
      "  return self._fit(X, y)\n",
      "/Users/albinekstrom/Documents/GitHub/BikeFit/venv/lib/python3.7/site-packages/sklearn/neighbors/_classification.py:198: DataConversionWarning: A column-vector y was passed when a 1d array was expected. Please change the shape of y to (n_samples,), for example using ravel().\n",
      "  return self._fit(X, y)\n",
      "/Users/albinekstrom/Documents/GitHub/BikeFit/venv/lib/python3.7/site-packages/sklearn/neighbors/_classification.py:198: DataConversionWarning: A column-vector y was passed when a 1d array was expected. Please change the shape of y to (n_samples,), for example using ravel().\n",
      "  return self._fit(X, y)\n",
      "/Users/albinekstrom/Documents/GitHub/BikeFit/venv/lib/python3.7/site-packages/sklearn/neighbors/_classification.py:198: DataConversionWarning: A column-vector y was passed when a 1d array was expected. Please change the shape of y to (n_samples,), for example using ravel().\n",
      "  return self._fit(X, y)\n",
      "/Users/albinekstrom/Documents/GitHub/BikeFit/venv/lib/python3.7/site-packages/sklearn/neighbors/_classification.py:198: DataConversionWarning: A column-vector y was passed when a 1d array was expected. Please change the shape of y to (n_samples,), for example using ravel().\n",
      "  return self._fit(X, y)\n",
      "/Users/albinekstrom/Documents/GitHub/BikeFit/venv/lib/python3.7/site-packages/sklearn/neighbors/_classification.py:198: DataConversionWarning: A column-vector y was passed when a 1d array was expected. Please change the shape of y to (n_samples,), for example using ravel().\n",
      "  return self._fit(X, y)\n",
      "/Users/albinekstrom/Documents/GitHub/BikeFit/venv/lib/python3.7/site-packages/sklearn/neighbors/_classification.py:198: DataConversionWarning: A column-vector y was passed when a 1d array was expected. Please change the shape of y to (n_samples,), for example using ravel().\n",
      "  return self._fit(X, y)\n",
      "/Users/albinekstrom/Documents/GitHub/BikeFit/venv/lib/python3.7/site-packages/sklearn/neighbors/_classification.py:198: DataConversionWarning: A column-vector y was passed when a 1d array was expected. Please change the shape of y to (n_samples,), for example using ravel().\n",
      "  return self._fit(X, y)\n",
      "/Users/albinekstrom/Documents/GitHub/BikeFit/venv/lib/python3.7/site-packages/sklearn/neighbors/_classification.py:198: DataConversionWarning: A column-vector y was passed when a 1d array was expected. Please change the shape of y to (n_samples,), for example using ravel().\n",
      "  return self._fit(X, y)\n",
      "/Users/albinekstrom/Documents/GitHub/BikeFit/venv/lib/python3.7/site-packages/sklearn/neighbors/_classification.py:198: DataConversionWarning: A column-vector y was passed when a 1d array was expected. Please change the shape of y to (n_samples,), for example using ravel().\n",
      "  return self._fit(X, y)\n",
      "/Users/albinekstrom/Documents/GitHub/BikeFit/venv/lib/python3.7/site-packages/sklearn/neighbors/_classification.py:198: DataConversionWarning: A column-vector y was passed when a 1d array was expected. Please change the shape of y to (n_samples,), for example using ravel().\n",
      "  return self._fit(X, y)\n",
      "/Users/albinekstrom/Documents/GitHub/BikeFit/venv/lib/python3.7/site-packages/sklearn/neighbors/_classification.py:198: DataConversionWarning: A column-vector y was passed when a 1d array was expected. Please change the shape of y to (n_samples,), for example using ravel().\n",
      "  return self._fit(X, y)\n",
      "/Users/albinekstrom/Documents/GitHub/BikeFit/venv/lib/python3.7/site-packages/sklearn/neighbors/_classification.py:198: DataConversionWarning: A column-vector y was passed when a 1d array was expected. Please change the shape of y to (n_samples,), for example using ravel().\n",
      "  return self._fit(X, y)\n",
      "/Users/albinekstrom/Documents/GitHub/BikeFit/venv/lib/python3.7/site-packages/sklearn/neighbors/_classification.py:198: DataConversionWarning: A column-vector y was passed when a 1d array was expected. Please change the shape of y to (n_samples,), for example using ravel().\n",
      "  return self._fit(X, y)\n",
      "/Users/albinekstrom/Documents/GitHub/BikeFit/venv/lib/python3.7/site-packages/sklearn/neighbors/_classification.py:198: DataConversionWarning: A column-vector y was passed when a 1d array was expected. Please change the shape of y to (n_samples,), for example using ravel().\n",
      "  return self._fit(X, y)\n",
      "/Users/albinekstrom/Documents/GitHub/BikeFit/venv/lib/python3.7/site-packages/sklearn/neighbors/_classification.py:198: DataConversionWarning: A column-vector y was passed when a 1d array was expected. Please change the shape of y to (n_samples,), for example using ravel().\n",
      "  return self._fit(X, y)\n",
      "/Users/albinekstrom/Documents/GitHub/BikeFit/venv/lib/python3.7/site-packages/sklearn/neighbors/_classification.py:198: DataConversionWarning: A column-vector y was passed when a 1d array was expected. Please change the shape of y to (n_samples,), for example using ravel().\n",
      "  return self._fit(X, y)\n",
      "/Users/albinekstrom/Documents/GitHub/BikeFit/venv/lib/python3.7/site-packages/sklearn/model_selection/_validation.py:680: DataConversionWarning: A column-vector y was passed when a 1d array was expected. Please change the shape of y to (n_samples,), for example using ravel().\n",
      "  estimator.fit(X_train, y_train, **fit_params)\n",
      "/Users/albinekstrom/Documents/GitHub/BikeFit/venv/lib/python3.7/site-packages/sklearn/model_selection/_validation.py:680: DataConversionWarning: A column-vector y was passed when a 1d array was expected. Please change the shape of y to (n_samples,), for example using ravel().\n",
      "  estimator.fit(X_train, y_train, **fit_params)\n",
      "/Users/albinekstrom/Documents/GitHub/BikeFit/venv/lib/python3.7/site-packages/sklearn/model_selection/_validation.py:680: DataConversionWarning: A column-vector y was passed when a 1d array was expected. Please change the shape of y to (n_samples,), for example using ravel().\n",
      "  estimator.fit(X_train, y_train, **fit_params)\n",
      "/Users/albinekstrom/Documents/GitHub/BikeFit/venv/lib/python3.7/site-packages/sklearn/model_selection/_validation.py:680: DataConversionWarning: A column-vector y was passed when a 1d array was expected. Please change the shape of y to (n_samples,), for example using ravel().\n",
      "  estimator.fit(X_train, y_train, **fit_params)\n",
      "/Users/albinekstrom/Documents/GitHub/BikeFit/venv/lib/python3.7/site-packages/sklearn/model_selection/_validation.py:680: DataConversionWarning: A column-vector y was passed when a 1d array was expected. Please change the shape of y to (n_samples,), for example using ravel().\n",
      "  estimator.fit(X_train, y_train, **fit_params)\n",
      "/Users/albinekstrom/Documents/GitHub/BikeFit/venv/lib/python3.7/site-packages/sklearn/model_selection/_validation.py:680: DataConversionWarning: A column-vector y was passed when a 1d array was expected. Please change the shape of y to (n_samples,), for example using ravel().\n",
      "  estimator.fit(X_train, y_train, **fit_params)\n",
      "/Users/albinekstrom/Documents/GitHub/BikeFit/venv/lib/python3.7/site-packages/sklearn/model_selection/_validation.py:680: DataConversionWarning: A column-vector y was passed when a 1d array was expected. Please change the shape of y to (n_samples,), for example using ravel().\n",
      "  estimator.fit(X_train, y_train, **fit_params)\n",
      "/Users/albinekstrom/Documents/GitHub/BikeFit/venv/lib/python3.7/site-packages/sklearn/model_selection/_validation.py:680: DataConversionWarning: A column-vector y was passed when a 1d array was expected. Please change the shape of y to (n_samples,), for example using ravel().\n",
      "  estimator.fit(X_train, y_train, **fit_params)\n",
      "/Users/albinekstrom/Documents/GitHub/BikeFit/venv/lib/python3.7/site-packages/sklearn/model_selection/_validation.py:680: DataConversionWarning: A column-vector y was passed when a 1d array was expected. Please change the shape of y to (n_samples,), for example using ravel().\n",
      "  estimator.fit(X_train, y_train, **fit_params)\n",
      "/Users/albinekstrom/Documents/GitHub/BikeFit/venv/lib/python3.7/site-packages/sklearn/model_selection/_validation.py:680: DataConversionWarning: A column-vector y was passed when a 1d array was expected. Please change the shape of y to (n_samples,), for example using ravel().\n",
      "  estimator.fit(X_train, y_train, **fit_params)\n",
      "/Users/albinekstrom/Documents/GitHub/BikeFit/venv/lib/python3.7/site-packages/sklearn/model_selection/_validation.py:680: DataConversionWarning: A column-vector y was passed when a 1d array was expected. Please change the shape of y to (n_samples,), for example using ravel().\n",
      "  estimator.fit(X_train, y_train, **fit_params)\n",
      "/Users/albinekstrom/Documents/GitHub/BikeFit/venv/lib/python3.7/site-packages/sklearn/model_selection/_validation.py:680: DataConversionWarning: A column-vector y was passed when a 1d array was expected. Please change the shape of y to (n_samples,), for example using ravel().\n",
      "  estimator.fit(X_train, y_train, **fit_params)\n",
      "/Users/albinekstrom/Documents/GitHub/BikeFit/venv/lib/python3.7/site-packages/sklearn/model_selection/_validation.py:680: DataConversionWarning: A column-vector y was passed when a 1d array was expected. Please change the shape of y to (n_samples,), for example using ravel().\n",
      "  estimator.fit(X_train, y_train, **fit_params)\n",
      "/Users/albinekstrom/Documents/GitHub/BikeFit/venv/lib/python3.7/site-packages/sklearn/model_selection/_validation.py:680: DataConversionWarning: A column-vector y was passed when a 1d array was expected. Please change the shape of y to (n_samples,), for example using ravel().\n",
      "  estimator.fit(X_train, y_train, **fit_params)\n",
      "/Users/albinekstrom/Documents/GitHub/BikeFit/venv/lib/python3.7/site-packages/sklearn/model_selection/_validation.py:680: DataConversionWarning: A column-vector y was passed when a 1d array was expected. Please change the shape of y to (n_samples,), for example using ravel().\n",
      "  estimator.fit(X_train, y_train, **fit_params)\n",
      "/Users/albinekstrom/Documents/GitHub/BikeFit/venv/lib/python3.7/site-packages/sklearn/model_selection/_validation.py:680: DataConversionWarning: A column-vector y was passed when a 1d array was expected. Please change the shape of y to (n_samples,), for example using ravel().\n",
      "  estimator.fit(X_train, y_train, **fit_params)\n",
      "/Users/albinekstrom/Documents/GitHub/BikeFit/venv/lib/python3.7/site-packages/sklearn/model_selection/_validation.py:680: DataConversionWarning: A column-vector y was passed when a 1d array was expected. Please change the shape of y to (n_samples,), for example using ravel().\n",
      "  estimator.fit(X_train, y_train, **fit_params)\n",
      "/Users/albinekstrom/Documents/GitHub/BikeFit/venv/lib/python3.7/site-packages/sklearn/model_selection/_validation.py:680: DataConversionWarning: A column-vector y was passed when a 1d array was expected. Please change the shape of y to (n_samples,), for example using ravel().\n",
      "  estimator.fit(X_train, y_train, **fit_params)\n",
      "/Users/albinekstrom/Documents/GitHub/BikeFit/venv/lib/python3.7/site-packages/sklearn/model_selection/_validation.py:680: DataConversionWarning: A column-vector y was passed when a 1d array was expected. Please change the shape of y to (n_samples,), for example using ravel().\n",
      "  estimator.fit(X_train, y_train, **fit_params)\n",
      "/Users/albinekstrom/Documents/GitHub/BikeFit/venv/lib/python3.7/site-packages/sklearn/model_selection/_validation.py:680: DataConversionWarning: A column-vector y was passed when a 1d array was expected. Please change the shape of y to (n_samples,), for example using ravel().\n",
      "  estimator.fit(X_train, y_train, **fit_params)\n",
      "/Users/albinekstrom/Documents/GitHub/BikeFit/venv/lib/python3.7/site-packages/sklearn/model_selection/_validation.py:680: DataConversionWarning: A column-vector y was passed when a 1d array was expected. Please change the shape of y to (n_samples,), for example using ravel().\n",
      "  estimator.fit(X_train, y_train, **fit_params)\n",
      "/Users/albinekstrom/Documents/GitHub/BikeFit/venv/lib/python3.7/site-packages/sklearn/model_selection/_validation.py:680: DataConversionWarning: A column-vector y was passed when a 1d array was expected. Please change the shape of y to (n_samples,), for example using ravel().\n",
      "  estimator.fit(X_train, y_train, **fit_params)\n",
      "/Users/albinekstrom/Documents/GitHub/BikeFit/venv/lib/python3.7/site-packages/sklearn/model_selection/_validation.py:680: DataConversionWarning: A column-vector y was passed when a 1d array was expected. Please change the shape of y to (n_samples,), for example using ravel().\n",
      "  estimator.fit(X_train, y_train, **fit_params)\n",
      "/Users/albinekstrom/Documents/GitHub/BikeFit/venv/lib/python3.7/site-packages/sklearn/model_selection/_validation.py:680: DataConversionWarning: A column-vector y was passed when a 1d array was expected. Please change the shape of y to (n_samples,), for example using ravel().\n",
      "  estimator.fit(X_train, y_train, **fit_params)\n",
      "/Users/albinekstrom/Documents/GitHub/BikeFit/venv/lib/python3.7/site-packages/sklearn/model_selection/_validation.py:680: DataConversionWarning: A column-vector y was passed when a 1d array was expected. Please change the shape of y to (n_samples,), for example using ravel().\n",
      "  estimator.fit(X_train, y_train, **fit_params)\n",
      "/Users/albinekstrom/Documents/GitHub/BikeFit/venv/lib/python3.7/site-packages/sklearn/model_selection/_validation.py:680: DataConversionWarning: A column-vector y was passed when a 1d array was expected. Please change the shape of y to (n_samples,), for example using ravel().\n",
      "  estimator.fit(X_train, y_train, **fit_params)\n",
      "/Users/albinekstrom/Documents/GitHub/BikeFit/venv/lib/python3.7/site-packages/sklearn/model_selection/_validation.py:680: DataConversionWarning: A column-vector y was passed when a 1d array was expected. Please change the shape of y to (n_samples,), for example using ravel().\n",
      "  estimator.fit(X_train, y_train, **fit_params)\n",
      "/Users/albinekstrom/Documents/GitHub/BikeFit/venv/lib/python3.7/site-packages/sklearn/model_selection/_validation.py:680: DataConversionWarning: A column-vector y was passed when a 1d array was expected. Please change the shape of y to (n_samples,), for example using ravel().\n",
      "  estimator.fit(X_train, y_train, **fit_params)\n",
      "/Users/albinekstrom/Documents/GitHub/BikeFit/venv/lib/python3.7/site-packages/sklearn/model_selection/_validation.py:680: DataConversionWarning: A column-vector y was passed when a 1d array was expected. Please change the shape of y to (n_samples,), for example using ravel().\n",
      "  estimator.fit(X_train, y_train, **fit_params)\n",
      "/Users/albinekstrom/Documents/GitHub/BikeFit/venv/lib/python3.7/site-packages/sklearn/model_selection/_validation.py:680: DataConversionWarning: A column-vector y was passed when a 1d array was expected. Please change the shape of y to (n_samples,), for example using ravel().\n",
      "  estimator.fit(X_train, y_train, **fit_params)\n",
      "/Users/albinekstrom/Documents/GitHub/BikeFit/venv/lib/python3.7/site-packages/sklearn/model_selection/_validation.py:680: DataConversionWarning: A column-vector y was passed when a 1d array was expected. Please change the shape of y to (n_samples,), for example using ravel().\n",
      "  estimator.fit(X_train, y_train, **fit_params)\n",
      "/Users/albinekstrom/Documents/GitHub/BikeFit/venv/lib/python3.7/site-packages/sklearn/model_selection/_validation.py:680: DataConversionWarning: A column-vector y was passed when a 1d array was expected. Please change the shape of y to (n_samples,), for example using ravel().\n",
      "  estimator.fit(X_train, y_train, **fit_params)\n",
      "/Users/albinekstrom/Documents/GitHub/BikeFit/venv/lib/python3.7/site-packages/sklearn/model_selection/_validation.py:680: DataConversionWarning: A column-vector y was passed when a 1d array was expected. Please change the shape of y to (n_samples,), for example using ravel().\n",
      "  estimator.fit(X_train, y_train, **fit_params)\n",
      "/Users/albinekstrom/Documents/GitHub/BikeFit/venv/lib/python3.7/site-packages/sklearn/model_selection/_validation.py:680: DataConversionWarning: A column-vector y was passed when a 1d array was expected. Please change the shape of y to (n_samples,), for example using ravel().\n",
      "  estimator.fit(X_train, y_train, **fit_params)\n",
      "/Users/albinekstrom/Documents/GitHub/BikeFit/venv/lib/python3.7/site-packages/sklearn/model_selection/_validation.py:680: DataConversionWarning: A column-vector y was passed when a 1d array was expected. Please change the shape of y to (n_samples,), for example using ravel().\n",
      "  estimator.fit(X_train, y_train, **fit_params)\n",
      "/Users/albinekstrom/Documents/GitHub/BikeFit/venv/lib/python3.7/site-packages/sklearn/model_selection/_validation.py:680: DataConversionWarning: A column-vector y was passed when a 1d array was expected. Please change the shape of y to (n_samples,), for example using ravel().\n",
      "  estimator.fit(X_train, y_train, **fit_params)\n",
      "/Users/albinekstrom/Documents/GitHub/BikeFit/venv/lib/python3.7/site-packages/sklearn/model_selection/_validation.py:680: DataConversionWarning: A column-vector y was passed when a 1d array was expected. Please change the shape of y to (n_samples,), for example using ravel().\n",
      "  estimator.fit(X_train, y_train, **fit_params)\n",
      "/Users/albinekstrom/Documents/GitHub/BikeFit/venv/lib/python3.7/site-packages/sklearn/model_selection/_validation.py:680: DataConversionWarning: A column-vector y was passed when a 1d array was expected. Please change the shape of y to (n_samples,), for example using ravel().\n",
      "  estimator.fit(X_train, y_train, **fit_params)\n",
      "/Users/albinekstrom/Documents/GitHub/BikeFit/venv/lib/python3.7/site-packages/sklearn/model_selection/_validation.py:680: DataConversionWarning: A column-vector y was passed when a 1d array was expected. Please change the shape of y to (n_samples,), for example using ravel().\n",
      "  estimator.fit(X_train, y_train, **fit_params)\n",
      "/Users/albinekstrom/Documents/GitHub/BikeFit/venv/lib/python3.7/site-packages/sklearn/model_selection/_validation.py:680: DataConversionWarning: A column-vector y was passed when a 1d array was expected. Please change the shape of y to (n_samples,), for example using ravel().\n",
      "  estimator.fit(X_train, y_train, **fit_params)\n",
      "/Users/albinekstrom/Documents/GitHub/BikeFit/venv/lib/python3.7/site-packages/sklearn/model_selection/_validation.py:680: DataConversionWarning: A column-vector y was passed when a 1d array was expected. Please change the shape of y to (n_samples,), for example using ravel().\n",
      "  estimator.fit(X_train, y_train, **fit_params)\n",
      "/Users/albinekstrom/Documents/GitHub/BikeFit/venv/lib/python3.7/site-packages/sklearn/model_selection/_validation.py:680: DataConversionWarning: A column-vector y was passed when a 1d array was expected. Please change the shape of y to (n_samples,), for example using ravel().\n",
      "  estimator.fit(X_train, y_train, **fit_params)\n",
      "/Users/albinekstrom/Documents/GitHub/BikeFit/venv/lib/python3.7/site-packages/sklearn/model_selection/_validation.py:680: DataConversionWarning: A column-vector y was passed when a 1d array was expected. Please change the shape of y to (n_samples,), for example using ravel().\n",
      "  estimator.fit(X_train, y_train, **fit_params)\n",
      "/Users/albinekstrom/Documents/GitHub/BikeFit/venv/lib/python3.7/site-packages/sklearn/model_selection/_validation.py:680: DataConversionWarning: A column-vector y was passed when a 1d array was expected. Please change the shape of y to (n_samples,), for example using ravel().\n",
      "  estimator.fit(X_train, y_train, **fit_params)\n",
      "/Users/albinekstrom/Documents/GitHub/BikeFit/venv/lib/python3.7/site-packages/sklearn/model_selection/_validation.py:680: DataConversionWarning: A column-vector y was passed when a 1d array was expected. Please change the shape of y to (n_samples,), for example using ravel().\n",
      "  estimator.fit(X_train, y_train, **fit_params)\n",
      "/Users/albinekstrom/Documents/GitHub/BikeFit/venv/lib/python3.7/site-packages/sklearn/model_selection/_validation.py:680: DataConversionWarning: A column-vector y was passed when a 1d array was expected. Please change the shape of y to (n_samples,), for example using ravel().\n",
      "  estimator.fit(X_train, y_train, **fit_params)\n",
      "/Users/albinekstrom/Documents/GitHub/BikeFit/venv/lib/python3.7/site-packages/sklearn/model_selection/_validation.py:680: DataConversionWarning: A column-vector y was passed when a 1d array was expected. Please change the shape of y to (n_samples,), for example using ravel().\n",
      "  estimator.fit(X_train, y_train, **fit_params)\n",
      "/Users/albinekstrom/Documents/GitHub/BikeFit/venv/lib/python3.7/site-packages/sklearn/model_selection/_validation.py:680: DataConversionWarning: A column-vector y was passed when a 1d array was expected. Please change the shape of y to (n_samples,), for example using ravel().\n",
      "  estimator.fit(X_train, y_train, **fit_params)\n",
      "/Users/albinekstrom/Documents/GitHub/BikeFit/venv/lib/python3.7/site-packages/sklearn/model_selection/_validation.py:680: DataConversionWarning: A column-vector y was passed when a 1d array was expected. Please change the shape of y to (n_samples,), for example using ravel().\n",
      "  estimator.fit(X_train, y_train, **fit_params)\n",
      "/Users/albinekstrom/Documents/GitHub/BikeFit/venv/lib/python3.7/site-packages/sklearn/model_selection/_validation.py:680: DataConversionWarning: A column-vector y was passed when a 1d array was expected. Please change the shape of y to (n_samples,), for example using ravel().\n",
      "  estimator.fit(X_train, y_train, **fit_params)\n",
      "/Users/albinekstrom/Documents/GitHub/BikeFit/venv/lib/python3.7/site-packages/sklearn/model_selection/_validation.py:680: DataConversionWarning: A column-vector y was passed when a 1d array was expected. Please change the shape of y to (n_samples,), for example using ravel().\n",
      "  estimator.fit(X_train, y_train, **fit_params)\n",
      "/Users/albinekstrom/Documents/GitHub/BikeFit/venv/lib/python3.7/site-packages/sklearn/model_selection/_validation.py:680: DataConversionWarning: A column-vector y was passed when a 1d array was expected. Please change the shape of y to (n_samples,), for example using ravel().\n",
      "  estimator.fit(X_train, y_train, **fit_params)\n",
      "/Users/albinekstrom/Documents/GitHub/BikeFit/venv/lib/python3.7/site-packages/sklearn/model_selection/_validation.py:680: DataConversionWarning: A column-vector y was passed when a 1d array was expected. Please change the shape of y to (n_samples,), for example using ravel().\n",
      "  estimator.fit(X_train, y_train, **fit_params)\n",
      "/Users/albinekstrom/Documents/GitHub/BikeFit/venv/lib/python3.7/site-packages/sklearn/model_selection/_validation.py:680: DataConversionWarning: A column-vector y was passed when a 1d array was expected. Please change the shape of y to (n_samples,), for example using ravel().\n",
      "  estimator.fit(X_train, y_train, **fit_params)\n",
      "/Users/albinekstrom/Documents/GitHub/BikeFit/venv/lib/python3.7/site-packages/sklearn/model_selection/_validation.py:680: DataConversionWarning: A column-vector y was passed when a 1d array was expected. Please change the shape of y to (n_samples,), for example using ravel().\n",
      "  estimator.fit(X_train, y_train, **fit_params)\n",
      "/Users/albinekstrom/Documents/GitHub/BikeFit/venv/lib/python3.7/site-packages/sklearn/model_selection/_validation.py:680: DataConversionWarning: A column-vector y was passed when a 1d array was expected. Please change the shape of y to (n_samples,), for example using ravel().\n",
      "  estimator.fit(X_train, y_train, **fit_params)\n",
      "/Users/albinekstrom/Documents/GitHub/BikeFit/venv/lib/python3.7/site-packages/sklearn/model_selection/_validation.py:680: DataConversionWarning: A column-vector y was passed when a 1d array was expected. Please change the shape of y to (n_samples,), for example using ravel().\n",
      "  estimator.fit(X_train, y_train, **fit_params)\n",
      "/Users/albinekstrom/Documents/GitHub/BikeFit/venv/lib/python3.7/site-packages/sklearn/model_selection/_validation.py:680: DataConversionWarning: A column-vector y was passed when a 1d array was expected. Please change the shape of y to (n_samples,), for example using ravel().\n",
      "  estimator.fit(X_train, y_train, **fit_params)\n",
      "/Users/albinekstrom/Documents/GitHub/BikeFit/venv/lib/python3.7/site-packages/sklearn/model_selection/_validation.py:680: DataConversionWarning: A column-vector y was passed when a 1d array was expected. Please change the shape of y to (n_samples,), for example using ravel().\n",
      "  estimator.fit(X_train, y_train, **fit_params)\n",
      "/Users/albinekstrom/Documents/GitHub/BikeFit/venv/lib/python3.7/site-packages/sklearn/model_selection/_validation.py:680: DataConversionWarning: A column-vector y was passed when a 1d array was expected. Please change the shape of y to (n_samples,), for example using ravel().\n",
      "  estimator.fit(X_train, y_train, **fit_params)\n",
      "/Users/albinekstrom/Documents/GitHub/BikeFit/venv/lib/python3.7/site-packages/sklearn/model_selection/_validation.py:680: DataConversionWarning: A column-vector y was passed when a 1d array was expected. Please change the shape of y to (n_samples,), for example using ravel().\n",
      "  estimator.fit(X_train, y_train, **fit_params)\n",
      "/Users/albinekstrom/Documents/GitHub/BikeFit/venv/lib/python3.7/site-packages/sklearn/model_selection/_validation.py:680: DataConversionWarning: A column-vector y was passed when a 1d array was expected. Please change the shape of y to (n_samples,), for example using ravel().\n",
      "  estimator.fit(X_train, y_train, **fit_params)\n"
     ]
    },
    {
     "name": "stderr",
     "output_type": "stream",
     "text": [
      "/Users/albinekstrom/Documents/GitHub/BikeFit/venv/lib/python3.7/site-packages/sklearn/neighbors/_classification.py:198: DataConversionWarning: A column-vector y was passed when a 1d array was expected. Please change the shape of y to (n_samples,), for example using ravel().\n",
      "  return self._fit(X, y)\n",
      "/Users/albinekstrom/Documents/GitHub/BikeFit/venv/lib/python3.7/site-packages/sklearn/neighbors/_classification.py:198: DataConversionWarning: A column-vector y was passed when a 1d array was expected. Please change the shape of y to (n_samples,), for example using ravel().\n",
      "  return self._fit(X, y)\n",
      "/Users/albinekstrom/Documents/GitHub/BikeFit/venv/lib/python3.7/site-packages/sklearn/neighbors/_classification.py:198: DataConversionWarning: A column-vector y was passed when a 1d array was expected. Please change the shape of y to (n_samples,), for example using ravel().\n",
      "  return self._fit(X, y)\n",
      "/Users/albinekstrom/Documents/GitHub/BikeFit/venv/lib/python3.7/site-packages/sklearn/neighbors/_classification.py:198: DataConversionWarning: A column-vector y was passed when a 1d array was expected. Please change the shape of y to (n_samples,), for example using ravel().\n",
      "  return self._fit(X, y)\n",
      "/Users/albinekstrom/Documents/GitHub/BikeFit/venv/lib/python3.7/site-packages/sklearn/neighbors/_classification.py:198: DataConversionWarning: A column-vector y was passed when a 1d array was expected. Please change the shape of y to (n_samples,), for example using ravel().\n",
      "  return self._fit(X, y)\n",
      "/Users/albinekstrom/Documents/GitHub/BikeFit/venv/lib/python3.7/site-packages/sklearn/neighbors/_classification.py:198: DataConversionWarning: A column-vector y was passed when a 1d array was expected. Please change the shape of y to (n_samples,), for example using ravel().\n",
      "  return self._fit(X, y)\n",
      "/Users/albinekstrom/Documents/GitHub/BikeFit/venv/lib/python3.7/site-packages/sklearn/neighbors/_classification.py:198: DataConversionWarning: A column-vector y was passed when a 1d array was expected. Please change the shape of y to (n_samples,), for example using ravel().\n",
      "  return self._fit(X, y)\n",
      "/Users/albinekstrom/Documents/GitHub/BikeFit/venv/lib/python3.7/site-packages/sklearn/neighbors/_classification.py:198: DataConversionWarning: A column-vector y was passed when a 1d array was expected. Please change the shape of y to (n_samples,), for example using ravel().\n",
      "  return self._fit(X, y)\n",
      "/Users/albinekstrom/Documents/GitHub/BikeFit/venv/lib/python3.7/site-packages/sklearn/neighbors/_classification.py:198: DataConversionWarning: A column-vector y was passed when a 1d array was expected. Please change the shape of y to (n_samples,), for example using ravel().\n",
      "  return self._fit(X, y)\n",
      "/Users/albinekstrom/Documents/GitHub/BikeFit/venv/lib/python3.7/site-packages/sklearn/model_selection/_validation.py:680: DataConversionWarning: A column-vector y was passed when a 1d array was expected. Please change the shape of y to (n_samples,), for example using ravel().\n",
      "  estimator.fit(X_train, y_train, **fit_params)\n",
      "/Users/albinekstrom/Documents/GitHub/BikeFit/venv/lib/python3.7/site-packages/sklearn/model_selection/_validation.py:680: DataConversionWarning: A column-vector y was passed when a 1d array was expected. Please change the shape of y to (n_samples,), for example using ravel().\n",
      "  estimator.fit(X_train, y_train, **fit_params)\n",
      "/Users/albinekstrom/Documents/GitHub/BikeFit/venv/lib/python3.7/site-packages/sklearn/model_selection/_validation.py:680: DataConversionWarning: A column-vector y was passed when a 1d array was expected. Please change the shape of y to (n_samples,), for example using ravel().\n",
      "  estimator.fit(X_train, y_train, **fit_params)\n",
      "/Users/albinekstrom/Documents/GitHub/BikeFit/venv/lib/python3.7/site-packages/sklearn/model_selection/_validation.py:680: DataConversionWarning: A column-vector y was passed when a 1d array was expected. Please change the shape of y to (n_samples,), for example using ravel().\n",
      "  estimator.fit(X_train, y_train, **fit_params)\n",
      "/Users/albinekstrom/Documents/GitHub/BikeFit/venv/lib/python3.7/site-packages/sklearn/model_selection/_validation.py:680: DataConversionWarning: A column-vector y was passed when a 1d array was expected. Please change the shape of y to (n_samples,), for example using ravel().\n",
      "  estimator.fit(X_train, y_train, **fit_params)\n",
      "/Users/albinekstrom/Documents/GitHub/BikeFit/venv/lib/python3.7/site-packages/sklearn/model_selection/_validation.py:680: DataConversionWarning: A column-vector y was passed when a 1d array was expected. Please change the shape of y to (n_samples,), for example using ravel().\n",
      "  estimator.fit(X_train, y_train, **fit_params)\n",
      "/Users/albinekstrom/Documents/GitHub/BikeFit/venv/lib/python3.7/site-packages/sklearn/model_selection/_validation.py:680: DataConversionWarning: A column-vector y was passed when a 1d array was expected. Please change the shape of y to (n_samples,), for example using ravel().\n",
      "  estimator.fit(X_train, y_train, **fit_params)\n",
      "/Users/albinekstrom/Documents/GitHub/BikeFit/venv/lib/python3.7/site-packages/sklearn/model_selection/_validation.py:680: DataConversionWarning: A column-vector y was passed when a 1d array was expected. Please change the shape of y to (n_samples,), for example using ravel().\n",
      "  estimator.fit(X_train, y_train, **fit_params)\n",
      "/Users/albinekstrom/Documents/GitHub/BikeFit/venv/lib/python3.7/site-packages/sklearn/model_selection/_validation.py:680: DataConversionWarning: A column-vector y was passed when a 1d array was expected. Please change the shape of y to (n_samples,), for example using ravel().\n",
      "  estimator.fit(X_train, y_train, **fit_params)\n",
      "/Users/albinekstrom/Documents/GitHub/BikeFit/venv/lib/python3.7/site-packages/sklearn/model_selection/_validation.py:680: DataConversionWarning: A column-vector y was passed when a 1d array was expected. Please change the shape of y to (n_samples,), for example using ravel().\n",
      "  estimator.fit(X_train, y_train, **fit_params)\n",
      "/Users/albinekstrom/Documents/GitHub/BikeFit/venv/lib/python3.7/site-packages/sklearn/model_selection/_validation.py:680: DataConversionWarning: A column-vector y was passed when a 1d array was expected. Please change the shape of y to (n_samples,), for example using ravel().\n",
      "  estimator.fit(X_train, y_train, **fit_params)\n",
      "/Users/albinekstrom/Documents/GitHub/BikeFit/venv/lib/python3.7/site-packages/sklearn/model_selection/_validation.py:680: DataConversionWarning: A column-vector y was passed when a 1d array was expected. Please change the shape of y to (n_samples,), for example using ravel().\n",
      "  estimator.fit(X_train, y_train, **fit_params)\n",
      "/Users/albinekstrom/Documents/GitHub/BikeFit/venv/lib/python3.7/site-packages/sklearn/model_selection/_validation.py:680: DataConversionWarning: A column-vector y was passed when a 1d array was expected. Please change the shape of y to (n_samples,), for example using ravel().\n",
      "  estimator.fit(X_train, y_train, **fit_params)\n",
      "/Users/albinekstrom/Documents/GitHub/BikeFit/venv/lib/python3.7/site-packages/sklearn/model_selection/_validation.py:680: DataConversionWarning: A column-vector y was passed when a 1d array was expected. Please change the shape of y to (n_samples,), for example using ravel().\n",
      "  estimator.fit(X_train, y_train, **fit_params)\n",
      "/Users/albinekstrom/Documents/GitHub/BikeFit/venv/lib/python3.7/site-packages/sklearn/model_selection/_validation.py:680: DataConversionWarning: A column-vector y was passed when a 1d array was expected. Please change the shape of y to (n_samples,), for example using ravel().\n",
      "  estimator.fit(X_train, y_train, **fit_params)\n",
      "/Users/albinekstrom/Documents/GitHub/BikeFit/venv/lib/python3.7/site-packages/sklearn/model_selection/_validation.py:680: DataConversionWarning: A column-vector y was passed when a 1d array was expected. Please change the shape of y to (n_samples,), for example using ravel().\n",
      "  estimator.fit(X_train, y_train, **fit_params)\n",
      "/Users/albinekstrom/Documents/GitHub/BikeFit/venv/lib/python3.7/site-packages/sklearn/model_selection/_validation.py:680: DataConversionWarning: A column-vector y was passed when a 1d array was expected. Please change the shape of y to (n_samples,), for example using ravel().\n",
      "  estimator.fit(X_train, y_train, **fit_params)\n",
      "/Users/albinekstrom/Documents/GitHub/BikeFit/venv/lib/python3.7/site-packages/sklearn/model_selection/_validation.py:680: DataConversionWarning: A column-vector y was passed when a 1d array was expected. Please change the shape of y to (n_samples,), for example using ravel().\n",
      "  estimator.fit(X_train, y_train, **fit_params)\n",
      "/Users/albinekstrom/Documents/GitHub/BikeFit/venv/lib/python3.7/site-packages/sklearn/neighbors/_classification.py:198: DataConversionWarning: A column-vector y was passed when a 1d array was expected. Please change the shape of y to (n_samples,), for example using ravel().\n",
      "  return self._fit(X, y)\n",
      "/Users/albinekstrom/Documents/GitHub/BikeFit/venv/lib/python3.7/site-packages/sklearn/neighbors/_classification.py:198: DataConversionWarning: A column-vector y was passed when a 1d array was expected. Please change the shape of y to (n_samples,), for example using ravel().\n",
      "  return self._fit(X, y)\n",
      "/Users/albinekstrom/Documents/GitHub/BikeFit/venv/lib/python3.7/site-packages/sklearn/neighbors/_classification.py:198: DataConversionWarning: A column-vector y was passed when a 1d array was expected. Please change the shape of y to (n_samples,), for example using ravel().\n",
      "  return self._fit(X, y)\n",
      "/Users/albinekstrom/Documents/GitHub/BikeFit/venv/lib/python3.7/site-packages/sklearn/neighbors/_classification.py:198: DataConversionWarning: A column-vector y was passed when a 1d array was expected. Please change the shape of y to (n_samples,), for example using ravel().\n",
      "  return self._fit(X, y)\n",
      "/Users/albinekstrom/Documents/GitHub/BikeFit/venv/lib/python3.7/site-packages/sklearn/neighbors/_classification.py:198: DataConversionWarning: A column-vector y was passed when a 1d array was expected. Please change the shape of y to (n_samples,), for example using ravel().\n",
      "  return self._fit(X, y)\n",
      "/Users/albinekstrom/Documents/GitHub/BikeFit/venv/lib/python3.7/site-packages/sklearn/neighbors/_classification.py:198: DataConversionWarning: A column-vector y was passed when a 1d array was expected. Please change the shape of y to (n_samples,), for example using ravel().\n",
      "  return self._fit(X, y)\n",
      "/Users/albinekstrom/Documents/GitHub/BikeFit/venv/lib/python3.7/site-packages/sklearn/neighbors/_classification.py:198: DataConversionWarning: A column-vector y was passed when a 1d array was expected. Please change the shape of y to (n_samples,), for example using ravel().\n",
      "  return self._fit(X, y)\n",
      "/Users/albinekstrom/Documents/GitHub/BikeFit/venv/lib/python3.7/site-packages/sklearn/neighbors/_classification.py:198: DataConversionWarning: A column-vector y was passed when a 1d array was expected. Please change the shape of y to (n_samples,), for example using ravel().\n",
      "  return self._fit(X, y)\n",
      "/Users/albinekstrom/Documents/GitHub/BikeFit/venv/lib/python3.7/site-packages/sklearn/neighbors/_classification.py:198: DataConversionWarning: A column-vector y was passed when a 1d array was expected. Please change the shape of y to (n_samples,), for example using ravel().\n",
      "  return self._fit(X, y)\n",
      "/Users/albinekstrom/Documents/GitHub/BikeFit/venv/lib/python3.7/site-packages/sklearn/neighbors/_classification.py:198: DataConversionWarning: A column-vector y was passed when a 1d array was expected. Please change the shape of y to (n_samples,), for example using ravel().\n",
      "  return self._fit(X, y)\n",
      "/Users/albinekstrom/Documents/GitHub/BikeFit/venv/lib/python3.7/site-packages/sklearn/neighbors/_classification.py:198: DataConversionWarning: A column-vector y was passed when a 1d array was expected. Please change the shape of y to (n_samples,), for example using ravel().\n",
      "  return self._fit(X, y)\n",
      "/Users/albinekstrom/Documents/GitHub/BikeFit/venv/lib/python3.7/site-packages/sklearn/neighbors/_classification.py:198: DataConversionWarning: A column-vector y was passed when a 1d array was expected. Please change the shape of y to (n_samples,), for example using ravel().\n",
      "  return self._fit(X, y)\n",
      "/Users/albinekstrom/Documents/GitHub/BikeFit/venv/lib/python3.7/site-packages/sklearn/neighbors/_classification.py:198: DataConversionWarning: A column-vector y was passed when a 1d array was expected. Please change the shape of y to (n_samples,), for example using ravel().\n",
      "  return self._fit(X, y)\n",
      "/Users/albinekstrom/Documents/GitHub/BikeFit/venv/lib/python3.7/site-packages/sklearn/neighbors/_classification.py:198: DataConversionWarning: A column-vector y was passed when a 1d array was expected. Please change the shape of y to (n_samples,), for example using ravel().\n",
      "  return self._fit(X, y)\n",
      "/Users/albinekstrom/Documents/GitHub/BikeFit/venv/lib/python3.7/site-packages/sklearn/neighbors/_classification.py:198: DataConversionWarning: A column-vector y was passed when a 1d array was expected. Please change the shape of y to (n_samples,), for example using ravel().\n",
      "  return self._fit(X, y)\n",
      "/Users/albinekstrom/Documents/GitHub/BikeFit/venv/lib/python3.7/site-packages/sklearn/neighbors/_classification.py:198: DataConversionWarning: A column-vector y was passed when a 1d array was expected. Please change the shape of y to (n_samples,), for example using ravel().\n",
      "  return self._fit(X, y)\n",
      "/Users/albinekstrom/Documents/GitHub/BikeFit/venv/lib/python3.7/site-packages/sklearn/neighbors/_classification.py:198: DataConversionWarning: A column-vector y was passed when a 1d array was expected. Please change the shape of y to (n_samples,), for example using ravel().\n",
      "  return self._fit(X, y)\n",
      "/Users/albinekstrom/Documents/GitHub/BikeFit/venv/lib/python3.7/site-packages/sklearn/neighbors/_classification.py:198: DataConversionWarning: A column-vector y was passed when a 1d array was expected. Please change the shape of y to (n_samples,), for example using ravel().\n",
      "  return self._fit(X, y)\n",
      "/Users/albinekstrom/Documents/GitHub/BikeFit/venv/lib/python3.7/site-packages/sklearn/neighbors/_classification.py:198: DataConversionWarning: A column-vector y was passed when a 1d array was expected. Please change the shape of y to (n_samples,), for example using ravel().\n",
      "  return self._fit(X, y)\n",
      "/Users/albinekstrom/Documents/GitHub/BikeFit/venv/lib/python3.7/site-packages/sklearn/neighbors/_classification.py:198: DataConversionWarning: A column-vector y was passed when a 1d array was expected. Please change the shape of y to (n_samples,), for example using ravel().\n",
      "  return self._fit(X, y)\n",
      "/Users/albinekstrom/Documents/GitHub/BikeFit/venv/lib/python3.7/site-packages/sklearn/neighbors/_classification.py:198: DataConversionWarning: A column-vector y was passed when a 1d array was expected. Please change the shape of y to (n_samples,), for example using ravel().\n",
      "  return self._fit(X, y)\n",
      "/Users/albinekstrom/Documents/GitHub/BikeFit/venv/lib/python3.7/site-packages/sklearn/model_selection/_validation.py:680: DataConversionWarning: A column-vector y was passed when a 1d array was expected. Please change the shape of y to (n_samples,), for example using ravel().\n",
      "  estimator.fit(X_train, y_train, **fit_params)\n",
      "/Users/albinekstrom/Documents/GitHub/BikeFit/venv/lib/python3.7/site-packages/sklearn/model_selection/_validation.py:680: DataConversionWarning: A column-vector y was passed when a 1d array was expected. Please change the shape of y to (n_samples,), for example using ravel().\n",
      "  estimator.fit(X_train, y_train, **fit_params)\n",
      "/Users/albinekstrom/Documents/GitHub/BikeFit/venv/lib/python3.7/site-packages/sklearn/model_selection/_validation.py:680: DataConversionWarning: A column-vector y was passed when a 1d array was expected. Please change the shape of y to (n_samples,), for example using ravel().\n",
      "  estimator.fit(X_train, y_train, **fit_params)\n",
      "/Users/albinekstrom/Documents/GitHub/BikeFit/venv/lib/python3.7/site-packages/sklearn/model_selection/_validation.py:680: DataConversionWarning: A column-vector y was passed when a 1d array was expected. Please change the shape of y to (n_samples,), for example using ravel().\n",
      "  estimator.fit(X_train, y_train, **fit_params)\n",
      "/Users/albinekstrom/Documents/GitHub/BikeFit/venv/lib/python3.7/site-packages/sklearn/model_selection/_validation.py:680: DataConversionWarning: A column-vector y was passed when a 1d array was expected. Please change the shape of y to (n_samples,), for example using ravel().\n",
      "  estimator.fit(X_train, y_train, **fit_params)\n",
      "/Users/albinekstrom/Documents/GitHub/BikeFit/venv/lib/python3.7/site-packages/sklearn/model_selection/_validation.py:680: DataConversionWarning: A column-vector y was passed when a 1d array was expected. Please change the shape of y to (n_samples,), for example using ravel().\n",
      "  estimator.fit(X_train, y_train, **fit_params)\n",
      "/Users/albinekstrom/Documents/GitHub/BikeFit/venv/lib/python3.7/site-packages/sklearn/model_selection/_validation.py:680: DataConversionWarning: A column-vector y was passed when a 1d array was expected. Please change the shape of y to (n_samples,), for example using ravel().\n",
      "  estimator.fit(X_train, y_train, **fit_params)\n",
      "/Users/albinekstrom/Documents/GitHub/BikeFit/venv/lib/python3.7/site-packages/sklearn/model_selection/_validation.py:680: DataConversionWarning: A column-vector y was passed when a 1d array was expected. Please change the shape of y to (n_samples,), for example using ravel().\n",
      "  estimator.fit(X_train, y_train, **fit_params)\n",
      "/Users/albinekstrom/Documents/GitHub/BikeFit/venv/lib/python3.7/site-packages/sklearn/model_selection/_validation.py:680: DataConversionWarning: A column-vector y was passed when a 1d array was expected. Please change the shape of y to (n_samples,), for example using ravel().\n",
      "  estimator.fit(X_train, y_train, **fit_params)\n",
      "/Users/albinekstrom/Documents/GitHub/BikeFit/venv/lib/python3.7/site-packages/sklearn/model_selection/_validation.py:680: DataConversionWarning: A column-vector y was passed when a 1d array was expected. Please change the shape of y to (n_samples,), for example using ravel().\n",
      "  estimator.fit(X_train, y_train, **fit_params)\n",
      "/Users/albinekstrom/Documents/GitHub/BikeFit/venv/lib/python3.7/site-packages/sklearn/model_selection/_validation.py:680: DataConversionWarning: A column-vector y was passed when a 1d array was expected. Please change the shape of y to (n_samples,), for example using ravel().\n",
      "  estimator.fit(X_train, y_train, **fit_params)\n",
      "/Users/albinekstrom/Documents/GitHub/BikeFit/venv/lib/python3.7/site-packages/sklearn/model_selection/_validation.py:680: DataConversionWarning: A column-vector y was passed when a 1d array was expected. Please change the shape of y to (n_samples,), for example using ravel().\n",
      "  estimator.fit(X_train, y_train, **fit_params)\n",
      "/Users/albinekstrom/Documents/GitHub/BikeFit/venv/lib/python3.7/site-packages/sklearn/model_selection/_validation.py:680: DataConversionWarning: A column-vector y was passed when a 1d array was expected. Please change the shape of y to (n_samples,), for example using ravel().\n",
      "  estimator.fit(X_train, y_train, **fit_params)\n",
      "/Users/albinekstrom/Documents/GitHub/BikeFit/venv/lib/python3.7/site-packages/sklearn/model_selection/_validation.py:680: DataConversionWarning: A column-vector y was passed when a 1d array was expected. Please change the shape of y to (n_samples,), for example using ravel().\n",
      "  estimator.fit(X_train, y_train, **fit_params)\n",
      "/Users/albinekstrom/Documents/GitHub/BikeFit/venv/lib/python3.7/site-packages/sklearn/model_selection/_validation.py:680: DataConversionWarning: A column-vector y was passed when a 1d array was expected. Please change the shape of y to (n_samples,), for example using ravel().\n",
      "  estimator.fit(X_train, y_train, **fit_params)\n",
      "/Users/albinekstrom/Documents/GitHub/BikeFit/venv/lib/python3.7/site-packages/sklearn/model_selection/_validation.py:680: DataConversionWarning: A column-vector y was passed when a 1d array was expected. Please change the shape of y to (n_samples,), for example using ravel().\n",
      "  estimator.fit(X_train, y_train, **fit_params)\n",
      "/Users/albinekstrom/Documents/GitHub/BikeFit/venv/lib/python3.7/site-packages/sklearn/model_selection/_validation.py:680: DataConversionWarning: A column-vector y was passed when a 1d array was expected. Please change the shape of y to (n_samples,), for example using ravel().\n",
      "  estimator.fit(X_train, y_train, **fit_params)\n"
     ]
    },
    {
     "name": "stderr",
     "output_type": "stream",
     "text": [
      "/Users/albinekstrom/Documents/GitHub/BikeFit/venv/lib/python3.7/site-packages/sklearn/neighbors/_classification.py:198: DataConversionWarning: A column-vector y was passed when a 1d array was expected. Please change the shape of y to (n_samples,), for example using ravel().\n",
      "  return self._fit(X, y)\n",
      "/Users/albinekstrom/Documents/GitHub/BikeFit/venv/lib/python3.7/site-packages/sklearn/neighbors/_classification.py:198: DataConversionWarning: A column-vector y was passed when a 1d array was expected. Please change the shape of y to (n_samples,), for example using ravel().\n",
      "  return self._fit(X, y)\n",
      "/Users/albinekstrom/Documents/GitHub/BikeFit/venv/lib/python3.7/site-packages/sklearn/neighbors/_classification.py:198: DataConversionWarning: A column-vector y was passed when a 1d array was expected. Please change the shape of y to (n_samples,), for example using ravel().\n",
      "  return self._fit(X, y)\n",
      "/Users/albinekstrom/Documents/GitHub/BikeFit/venv/lib/python3.7/site-packages/sklearn/neighbors/_classification.py:198: DataConversionWarning: A column-vector y was passed when a 1d array was expected. Please change the shape of y to (n_samples,), for example using ravel().\n",
      "  return self._fit(X, y)\n",
      "/Users/albinekstrom/Documents/GitHub/BikeFit/venv/lib/python3.7/site-packages/sklearn/neighbors/_classification.py:198: DataConversionWarning: A column-vector y was passed when a 1d array was expected. Please change the shape of y to (n_samples,), for example using ravel().\n",
      "  return self._fit(X, y)\n",
      "/Users/albinekstrom/Documents/GitHub/BikeFit/venv/lib/python3.7/site-packages/sklearn/neighbors/_classification.py:198: DataConversionWarning: A column-vector y was passed when a 1d array was expected. Please change the shape of y to (n_samples,), for example using ravel().\n",
      "  return self._fit(X, y)\n",
      "/Users/albinekstrom/Documents/GitHub/BikeFit/venv/lib/python3.7/site-packages/sklearn/neighbors/_classification.py:198: DataConversionWarning: A column-vector y was passed when a 1d array was expected. Please change the shape of y to (n_samples,), for example using ravel().\n",
      "  return self._fit(X, y)\n",
      "/Users/albinekstrom/Documents/GitHub/BikeFit/venv/lib/python3.7/site-packages/sklearn/neighbors/_classification.py:198: DataConversionWarning: A column-vector y was passed when a 1d array was expected. Please change the shape of y to (n_samples,), for example using ravel().\n",
      "  return self._fit(X, y)\n",
      "/Users/albinekstrom/Documents/GitHub/BikeFit/venv/lib/python3.7/site-packages/sklearn/neighbors/_classification.py:198: DataConversionWarning: A column-vector y was passed when a 1d array was expected. Please change the shape of y to (n_samples,), for example using ravel().\n",
      "  return self._fit(X, y)\n",
      "/Users/albinekstrom/Documents/GitHub/BikeFit/venv/lib/python3.7/site-packages/sklearn/neighbors/_classification.py:198: DataConversionWarning: A column-vector y was passed when a 1d array was expected. Please change the shape of y to (n_samples,), for example using ravel().\n",
      "  return self._fit(X, y)\n",
      "/Users/albinekstrom/Documents/GitHub/BikeFit/venv/lib/python3.7/site-packages/sklearn/neighbors/_classification.py:198: DataConversionWarning: A column-vector y was passed when a 1d array was expected. Please change the shape of y to (n_samples,), for example using ravel().\n",
      "  return self._fit(X, y)\n",
      "/Users/albinekstrom/Documents/GitHub/BikeFit/venv/lib/python3.7/site-packages/sklearn/neighbors/_classification.py:198: DataConversionWarning: A column-vector y was passed when a 1d array was expected. Please change the shape of y to (n_samples,), for example using ravel().\n",
      "  return self._fit(X, y)\n",
      "/Users/albinekstrom/Documents/GitHub/BikeFit/venv/lib/python3.7/site-packages/sklearn/model_selection/_validation.py:680: DataConversionWarning: A column-vector y was passed when a 1d array was expected. Please change the shape of y to (n_samples,), for example using ravel().\n",
      "  estimator.fit(X_train, y_train, **fit_params)\n",
      "/Users/albinekstrom/Documents/GitHub/BikeFit/venv/lib/python3.7/site-packages/sklearn/model_selection/_validation.py:680: DataConversionWarning: A column-vector y was passed when a 1d array was expected. Please change the shape of y to (n_samples,), for example using ravel().\n",
      "  estimator.fit(X_train, y_train, **fit_params)\n",
      "/Users/albinekstrom/Documents/GitHub/BikeFit/venv/lib/python3.7/site-packages/sklearn/model_selection/_validation.py:680: DataConversionWarning: A column-vector y was passed when a 1d array was expected. Please change the shape of y to (n_samples,), for example using ravel().\n",
      "  estimator.fit(X_train, y_train, **fit_params)\n",
      "/Users/albinekstrom/Documents/GitHub/BikeFit/venv/lib/python3.7/site-packages/sklearn/model_selection/_validation.py:680: DataConversionWarning: A column-vector y was passed when a 1d array was expected. Please change the shape of y to (n_samples,), for example using ravel().\n",
      "  estimator.fit(X_train, y_train, **fit_params)\n",
      "/Users/albinekstrom/Documents/GitHub/BikeFit/venv/lib/python3.7/site-packages/sklearn/model_selection/_validation.py:680: DataConversionWarning: A column-vector y was passed when a 1d array was expected. Please change the shape of y to (n_samples,), for example using ravel().\n",
      "  estimator.fit(X_train, y_train, **fit_params)\n",
      "/Users/albinekstrom/Documents/GitHub/BikeFit/venv/lib/python3.7/site-packages/sklearn/model_selection/_validation.py:680: DataConversionWarning: A column-vector y was passed when a 1d array was expected. Please change the shape of y to (n_samples,), for example using ravel().\n",
      "  estimator.fit(X_train, y_train, **fit_params)\n",
      "/Users/albinekstrom/Documents/GitHub/BikeFit/venv/lib/python3.7/site-packages/sklearn/model_selection/_validation.py:680: DataConversionWarning: A column-vector y was passed when a 1d array was expected. Please change the shape of y to (n_samples,), for example using ravel().\n",
      "  estimator.fit(X_train, y_train, **fit_params)\n",
      "/Users/albinekstrom/Documents/GitHub/BikeFit/venv/lib/python3.7/site-packages/sklearn/model_selection/_validation.py:680: DataConversionWarning: A column-vector y was passed when a 1d array was expected. Please change the shape of y to (n_samples,), for example using ravel().\n",
      "  estimator.fit(X_train, y_train, **fit_params)\n",
      "/Users/albinekstrom/Documents/GitHub/BikeFit/venv/lib/python3.7/site-packages/sklearn/model_selection/_validation.py:680: DataConversionWarning: A column-vector y was passed when a 1d array was expected. Please change the shape of y to (n_samples,), for example using ravel().\n",
      "  estimator.fit(X_train, y_train, **fit_params)\n",
      "/Users/albinekstrom/Documents/GitHub/BikeFit/venv/lib/python3.7/site-packages/sklearn/model_selection/_validation.py:680: DataConversionWarning: A column-vector y was passed when a 1d array was expected. Please change the shape of y to (n_samples,), for example using ravel().\n",
      "  estimator.fit(X_train, y_train, **fit_params)\n",
      "/Users/albinekstrom/Documents/GitHub/BikeFit/venv/lib/python3.7/site-packages/sklearn/model_selection/_validation.py:680: DataConversionWarning: A column-vector y was passed when a 1d array was expected. Please change the shape of y to (n_samples,), for example using ravel().\n",
      "  estimator.fit(X_train, y_train, **fit_params)\n",
      "/Users/albinekstrom/Documents/GitHub/BikeFit/venv/lib/python3.7/site-packages/sklearn/model_selection/_validation.py:680: DataConversionWarning: A column-vector y was passed when a 1d array was expected. Please change the shape of y to (n_samples,), for example using ravel().\n",
      "  estimator.fit(X_train, y_train, **fit_params)\n",
      "/Users/albinekstrom/Documents/GitHub/BikeFit/venv/lib/python3.7/site-packages/sklearn/model_selection/_validation.py:680: DataConversionWarning: A column-vector y was passed when a 1d array was expected. Please change the shape of y to (n_samples,), for example using ravel().\n",
      "  estimator.fit(X_train, y_train, **fit_params)\n",
      "/Users/albinekstrom/Documents/GitHub/BikeFit/venv/lib/python3.7/site-packages/sklearn/model_selection/_validation.py:680: DataConversionWarning: A column-vector y was passed when a 1d array was expected. Please change the shape of y to (n_samples,), for example using ravel().\n",
      "  estimator.fit(X_train, y_train, **fit_params)\n",
      "/Users/albinekstrom/Documents/GitHub/BikeFit/venv/lib/python3.7/site-packages/sklearn/model_selection/_validation.py:680: DataConversionWarning: A column-vector y was passed when a 1d array was expected. Please change the shape of y to (n_samples,), for example using ravel().\n",
      "  estimator.fit(X_train, y_train, **fit_params)\n",
      "/Users/albinekstrom/Documents/GitHub/BikeFit/venv/lib/python3.7/site-packages/sklearn/model_selection/_validation.py:680: DataConversionWarning: A column-vector y was passed when a 1d array was expected. Please change the shape of y to (n_samples,), for example using ravel().\n",
      "  estimator.fit(X_train, y_train, **fit_params)\n",
      "/Users/albinekstrom/Documents/GitHub/BikeFit/venv/lib/python3.7/site-packages/sklearn/model_selection/_validation.py:680: DataConversionWarning: A column-vector y was passed when a 1d array was expected. Please change the shape of y to (n_samples,), for example using ravel().\n",
      "  estimator.fit(X_train, y_train, **fit_params)\n",
      "/Users/albinekstrom/Documents/GitHub/BikeFit/venv/lib/python3.7/site-packages/sklearn/model_selection/_validation.py:680: DataConversionWarning: A column-vector y was passed when a 1d array was expected. Please change the shape of y to (n_samples,), for example using ravel().\n",
      "  estimator.fit(X_train, y_train, **fit_params)\n",
      "/Users/albinekstrom/Documents/GitHub/BikeFit/venv/lib/python3.7/site-packages/sklearn/neighbors/_classification.py:198: DataConversionWarning: A column-vector y was passed when a 1d array was expected. Please change the shape of y to (n_samples,), for example using ravel().\n",
      "  return self._fit(X, y)\n",
      "/Users/albinekstrom/Documents/GitHub/BikeFit/venv/lib/python3.7/site-packages/sklearn/neighbors/_classification.py:198: DataConversionWarning: A column-vector y was passed when a 1d array was expected. Please change the shape of y to (n_samples,), for example using ravel().\n",
      "  return self._fit(X, y)\n",
      "/Users/albinekstrom/Documents/GitHub/BikeFit/venv/lib/python3.7/site-packages/sklearn/neighbors/_classification.py:198: DataConversionWarning: A column-vector y was passed when a 1d array was expected. Please change the shape of y to (n_samples,), for example using ravel().\n",
      "  return self._fit(X, y)\n",
      "/Users/albinekstrom/Documents/GitHub/BikeFit/venv/lib/python3.7/site-packages/sklearn/neighbors/_classification.py:198: DataConversionWarning: A column-vector y was passed when a 1d array was expected. Please change the shape of y to (n_samples,), for example using ravel().\n",
      "  return self._fit(X, y)\n",
      "/Users/albinekstrom/Documents/GitHub/BikeFit/venv/lib/python3.7/site-packages/sklearn/neighbors/_classification.py:198: DataConversionWarning: A column-vector y was passed when a 1d array was expected. Please change the shape of y to (n_samples,), for example using ravel().\n",
      "  return self._fit(X, y)\n",
      "/Users/albinekstrom/Documents/GitHub/BikeFit/venv/lib/python3.7/site-packages/sklearn/neighbors/_classification.py:198: DataConversionWarning: A column-vector y was passed when a 1d array was expected. Please change the shape of y to (n_samples,), for example using ravel().\n",
      "  return self._fit(X, y)\n",
      "/Users/albinekstrom/Documents/GitHub/BikeFit/venv/lib/python3.7/site-packages/sklearn/neighbors/_classification.py:198: DataConversionWarning: A column-vector y was passed when a 1d array was expected. Please change the shape of y to (n_samples,), for example using ravel().\n",
      "  return self._fit(X, y)\n",
      "/Users/albinekstrom/Documents/GitHub/BikeFit/venv/lib/python3.7/site-packages/sklearn/neighbors/_classification.py:198: DataConversionWarning: A column-vector y was passed when a 1d array was expected. Please change the shape of y to (n_samples,), for example using ravel().\n",
      "  return self._fit(X, y)\n",
      "/Users/albinekstrom/Documents/GitHub/BikeFit/venv/lib/python3.7/site-packages/sklearn/neighbors/_classification.py:198: DataConversionWarning: A column-vector y was passed when a 1d array was expected. Please change the shape of y to (n_samples,), for example using ravel().\n",
      "  return self._fit(X, y)\n",
      "/Users/albinekstrom/Documents/GitHub/BikeFit/venv/lib/python3.7/site-packages/sklearn/neighbors/_classification.py:198: DataConversionWarning: A column-vector y was passed when a 1d array was expected. Please change the shape of y to (n_samples,), for example using ravel().\n",
      "  return self._fit(X, y)\n",
      "/Users/albinekstrom/Documents/GitHub/BikeFit/venv/lib/python3.7/site-packages/sklearn/neighbors/_classification.py:198: DataConversionWarning: A column-vector y was passed when a 1d array was expected. Please change the shape of y to (n_samples,), for example using ravel().\n",
      "  return self._fit(X, y)\n",
      "/Users/albinekstrom/Documents/GitHub/BikeFit/venv/lib/python3.7/site-packages/sklearn/neighbors/_classification.py:198: DataConversionWarning: A column-vector y was passed when a 1d array was expected. Please change the shape of y to (n_samples,), for example using ravel().\n",
      "  return self._fit(X, y)\n",
      "/Users/albinekstrom/Documents/GitHub/BikeFit/venv/lib/python3.7/site-packages/sklearn/neighbors/_classification.py:198: DataConversionWarning: A column-vector y was passed when a 1d array was expected. Please change the shape of y to (n_samples,), for example using ravel().\n",
      "  return self._fit(X, y)\n",
      "/Users/albinekstrom/Documents/GitHub/BikeFit/venv/lib/python3.7/site-packages/sklearn/neighbors/_classification.py:198: DataConversionWarning: A column-vector y was passed when a 1d array was expected. Please change the shape of y to (n_samples,), for example using ravel().\n",
      "  return self._fit(X, y)\n",
      "/Users/albinekstrom/Documents/GitHub/BikeFit/venv/lib/python3.7/site-packages/sklearn/neighbors/_classification.py:198: DataConversionWarning: A column-vector y was passed when a 1d array was expected. Please change the shape of y to (n_samples,), for example using ravel().\n",
      "  return self._fit(X, y)\n",
      "/Users/albinekstrom/Documents/GitHub/BikeFit/venv/lib/python3.7/site-packages/sklearn/neighbors/_classification.py:198: DataConversionWarning: A column-vector y was passed when a 1d array was expected. Please change the shape of y to (n_samples,), for example using ravel().\n",
      "  return self._fit(X, y)\n",
      "/Users/albinekstrom/Documents/GitHub/BikeFit/venv/lib/python3.7/site-packages/sklearn/neighbors/_classification.py:198: DataConversionWarning: A column-vector y was passed when a 1d array was expected. Please change the shape of y to (n_samples,), for example using ravel().\n",
      "  return self._fit(X, y)\n",
      "/Users/albinekstrom/Documents/GitHub/BikeFit/venv/lib/python3.7/site-packages/sklearn/neighbors/_classification.py:198: DataConversionWarning: A column-vector y was passed when a 1d array was expected. Please change the shape of y to (n_samples,), for example using ravel().\n",
      "  return self._fit(X, y)\n",
      "/Users/albinekstrom/Documents/GitHub/BikeFit/venv/lib/python3.7/site-packages/sklearn/neighbors/_classification.py:198: DataConversionWarning: A column-vector y was passed when a 1d array was expected. Please change the shape of y to (n_samples,), for example using ravel().\n",
      "  return self._fit(X, y)\n",
      "/Users/albinekstrom/Documents/GitHub/BikeFit/venv/lib/python3.7/site-packages/sklearn/neighbors/_classification.py:198: DataConversionWarning: A column-vector y was passed when a 1d array was expected. Please change the shape of y to (n_samples,), for example using ravel().\n",
      "  return self._fit(X, y)\n",
      "/Users/albinekstrom/Documents/GitHub/BikeFit/venv/lib/python3.7/site-packages/sklearn/neighbors/_classification.py:198: DataConversionWarning: A column-vector y was passed when a 1d array was expected. Please change the shape of y to (n_samples,), for example using ravel().\n",
      "  return self._fit(X, y)\n",
      "/Users/albinekstrom/Documents/GitHub/BikeFit/venv/lib/python3.7/site-packages/sklearn/neighbors/_classification.py:198: DataConversionWarning: A column-vector y was passed when a 1d array was expected. Please change the shape of y to (n_samples,), for example using ravel().\n",
      "  return self._fit(X, y)\n",
      "/Users/albinekstrom/Documents/GitHub/BikeFit/venv/lib/python3.7/site-packages/sklearn/neighbors/_classification.py:198: DataConversionWarning: A column-vector y was passed when a 1d array was expected. Please change the shape of y to (n_samples,), for example using ravel().\n",
      "  return self._fit(X, y)\n",
      "/Users/albinekstrom/Documents/GitHub/BikeFit/venv/lib/python3.7/site-packages/sklearn/neighbors/_classification.py:198: DataConversionWarning: A column-vector y was passed when a 1d array was expected. Please change the shape of y to (n_samples,), for example using ravel().\n",
      "  return self._fit(X, y)\n",
      "/Users/albinekstrom/Documents/GitHub/BikeFit/venv/lib/python3.7/site-packages/sklearn/neighbors/_classification.py:198: DataConversionWarning: A column-vector y was passed when a 1d array was expected. Please change the shape of y to (n_samples,), for example using ravel().\n",
      "  return self._fit(X, y)\n",
      "/Users/albinekstrom/Documents/GitHub/BikeFit/venv/lib/python3.7/site-packages/sklearn/neighbors/_classification.py:198: DataConversionWarning: A column-vector y was passed when a 1d array was expected. Please change the shape of y to (n_samples,), for example using ravel().\n",
      "  return self._fit(X, y)\n",
      "/Users/albinekstrom/Documents/GitHub/BikeFit/venv/lib/python3.7/site-packages/sklearn/neighbors/_classification.py:198: DataConversionWarning: A column-vector y was passed when a 1d array was expected. Please change the shape of y to (n_samples,), for example using ravel().\n",
      "  return self._fit(X, y)\n",
      "/Users/albinekstrom/Documents/GitHub/BikeFit/venv/lib/python3.7/site-packages/sklearn/neighbors/_classification.py:198: DataConversionWarning: A column-vector y was passed when a 1d array was expected. Please change the shape of y to (n_samples,), for example using ravel().\n",
      "  return self._fit(X, y)\n",
      "/Users/albinekstrom/Documents/GitHub/BikeFit/venv/lib/python3.7/site-packages/sklearn/neighbors/_classification.py:198: DataConversionWarning: A column-vector y was passed when a 1d array was expected. Please change the shape of y to (n_samples,), for example using ravel().\n",
      "  return self._fit(X, y)\n",
      "/Users/albinekstrom/Documents/GitHub/BikeFit/venv/lib/python3.7/site-packages/sklearn/neighbors/_classification.py:198: DataConversionWarning: A column-vector y was passed when a 1d array was expected. Please change the shape of y to (n_samples,), for example using ravel().\n",
      "  return self._fit(X, y)\n",
      "/Users/albinekstrom/Documents/GitHub/BikeFit/venv/lib/python3.7/site-packages/sklearn/neighbors/_classification.py:198: DataConversionWarning: A column-vector y was passed when a 1d array was expected. Please change the shape of y to (n_samples,), for example using ravel().\n",
      "  return self._fit(X, y)\n",
      "/Users/albinekstrom/Documents/GitHub/BikeFit/venv/lib/python3.7/site-packages/sklearn/neighbors/_classification.py:198: DataConversionWarning: A column-vector y was passed when a 1d array was expected. Please change the shape of y to (n_samples,), for example using ravel().\n",
      "  return self._fit(X, y)\n",
      "/Users/albinekstrom/Documents/GitHub/BikeFit/venv/lib/python3.7/site-packages/sklearn/neighbors/_classification.py:198: DataConversionWarning: A column-vector y was passed when a 1d array was expected. Please change the shape of y to (n_samples,), for example using ravel().\n",
      "  return self._fit(X, y)\n",
      "/Users/albinekstrom/Documents/GitHub/BikeFit/venv/lib/python3.7/site-packages/sklearn/neighbors/_classification.py:198: DataConversionWarning: A column-vector y was passed when a 1d array was expected. Please change the shape of y to (n_samples,), for example using ravel().\n",
      "  return self._fit(X, y)\n",
      "/Users/albinekstrom/Documents/GitHub/BikeFit/venv/lib/python3.7/site-packages/sklearn/neighbors/_classification.py:198: DataConversionWarning: A column-vector y was passed when a 1d array was expected. Please change the shape of y to (n_samples,), for example using ravel().\n",
      "  return self._fit(X, y)\n",
      "/Users/albinekstrom/Documents/GitHub/BikeFit/venv/lib/python3.7/site-packages/sklearn/neighbors/_classification.py:198: DataConversionWarning: A column-vector y was passed when a 1d array was expected. Please change the shape of y to (n_samples,), for example using ravel().\n",
      "  return self._fit(X, y)\n",
      "/Users/albinekstrom/Documents/GitHub/BikeFit/venv/lib/python3.7/site-packages/sklearn/model_selection/_validation.py:680: DataConversionWarning: A column-vector y was passed when a 1d array was expected. Please change the shape of y to (n_samples,), for example using ravel().\n",
      "  estimator.fit(X_train, y_train, **fit_params)\n",
      "/Users/albinekstrom/Documents/GitHub/BikeFit/venv/lib/python3.7/site-packages/sklearn/model_selection/_validation.py:680: DataConversionWarning: A column-vector y was passed when a 1d array was expected. Please change the shape of y to (n_samples,), for example using ravel().\n",
      "  estimator.fit(X_train, y_train, **fit_params)\n",
      "/Users/albinekstrom/Documents/GitHub/BikeFit/venv/lib/python3.7/site-packages/sklearn/model_selection/_validation.py:680: DataConversionWarning: A column-vector y was passed when a 1d array was expected. Please change the shape of y to (n_samples,), for example using ravel().\n",
      "  estimator.fit(X_train, y_train, **fit_params)\n",
      "/Users/albinekstrom/Documents/GitHub/BikeFit/venv/lib/python3.7/site-packages/sklearn/model_selection/_validation.py:680: DataConversionWarning: A column-vector y was passed when a 1d array was expected. Please change the shape of y to (n_samples,), for example using ravel().\n",
      "  estimator.fit(X_train, y_train, **fit_params)\n",
      "/Users/albinekstrom/Documents/GitHub/BikeFit/venv/lib/python3.7/site-packages/sklearn/model_selection/_validation.py:680: DataConversionWarning: A column-vector y was passed when a 1d array was expected. Please change the shape of y to (n_samples,), for example using ravel().\n",
      "  estimator.fit(X_train, y_train, **fit_params)\n",
      "/Users/albinekstrom/Documents/GitHub/BikeFit/venv/lib/python3.7/site-packages/sklearn/model_selection/_validation.py:680: DataConversionWarning: A column-vector y was passed when a 1d array was expected. Please change the shape of y to (n_samples,), for example using ravel().\n",
      "  estimator.fit(X_train, y_train, **fit_params)\n",
      "/Users/albinekstrom/Documents/GitHub/BikeFit/venv/lib/python3.7/site-packages/sklearn/model_selection/_validation.py:680: DataConversionWarning: A column-vector y was passed when a 1d array was expected. Please change the shape of y to (n_samples,), for example using ravel().\n",
      "  estimator.fit(X_train, y_train, **fit_params)\n",
      "/Users/albinekstrom/Documents/GitHub/BikeFit/venv/lib/python3.7/site-packages/sklearn/model_selection/_validation.py:680: DataConversionWarning: A column-vector y was passed when a 1d array was expected. Please change the shape of y to (n_samples,), for example using ravel().\n",
      "  estimator.fit(X_train, y_train, **fit_params)\n",
      "/Users/albinekstrom/Documents/GitHub/BikeFit/venv/lib/python3.7/site-packages/sklearn/model_selection/_validation.py:680: DataConversionWarning: A column-vector y was passed when a 1d array was expected. Please change the shape of y to (n_samples,), for example using ravel().\n",
      "  estimator.fit(X_train, y_train, **fit_params)\n",
      "/Users/albinekstrom/Documents/GitHub/BikeFit/venv/lib/python3.7/site-packages/sklearn/model_selection/_validation.py:680: DataConversionWarning: A column-vector y was passed when a 1d array was expected. Please change the shape of y to (n_samples,), for example using ravel().\n",
      "  estimator.fit(X_train, y_train, **fit_params)\n",
      "/Users/albinekstrom/Documents/GitHub/BikeFit/venv/lib/python3.7/site-packages/sklearn/model_selection/_validation.py:680: DataConversionWarning: A column-vector y was passed when a 1d array was expected. Please change the shape of y to (n_samples,), for example using ravel().\n",
      "  estimator.fit(X_train, y_train, **fit_params)\n",
      "/Users/albinekstrom/Documents/GitHub/BikeFit/venv/lib/python3.7/site-packages/sklearn/model_selection/_validation.py:680: DataConversionWarning: A column-vector y was passed when a 1d array was expected. Please change the shape of y to (n_samples,), for example using ravel().\n",
      "  estimator.fit(X_train, y_train, **fit_params)\n",
      "/Users/albinekstrom/Documents/GitHub/BikeFit/venv/lib/python3.7/site-packages/sklearn/model_selection/_validation.py:680: DataConversionWarning: A column-vector y was passed when a 1d array was expected. Please change the shape of y to (n_samples,), for example using ravel().\n",
      "  estimator.fit(X_train, y_train, **fit_params)\n",
      "/Users/albinekstrom/Documents/GitHub/BikeFit/venv/lib/python3.7/site-packages/sklearn/model_selection/_validation.py:680: DataConversionWarning: A column-vector y was passed when a 1d array was expected. Please change the shape of y to (n_samples,), for example using ravel().\n",
      "  estimator.fit(X_train, y_train, **fit_params)\n",
      "/Users/albinekstrom/Documents/GitHub/BikeFit/venv/lib/python3.7/site-packages/sklearn/model_selection/_validation.py:680: DataConversionWarning: A column-vector y was passed when a 1d array was expected. Please change the shape of y to (n_samples,), for example using ravel().\n",
      "  estimator.fit(X_train, y_train, **fit_params)\n"
     ]
    },
    {
     "name": "stderr",
     "output_type": "stream",
     "text": [
      "/Users/albinekstrom/Documents/GitHub/BikeFit/venv/lib/python3.7/site-packages/sklearn/neighbors/_classification.py:198: DataConversionWarning: A column-vector y was passed when a 1d array was expected. Please change the shape of y to (n_samples,), for example using ravel().\n",
      "  return self._fit(X, y)\n",
      "/Users/albinekstrom/Documents/GitHub/BikeFit/venv/lib/python3.7/site-packages/sklearn/neighbors/_classification.py:198: DataConversionWarning: A column-vector y was passed when a 1d array was expected. Please change the shape of y to (n_samples,), for example using ravel().\n",
      "  return self._fit(X, y)\n",
      "/Users/albinekstrom/Documents/GitHub/BikeFit/venv/lib/python3.7/site-packages/sklearn/neighbors/_classification.py:198: DataConversionWarning: A column-vector y was passed when a 1d array was expected. Please change the shape of y to (n_samples,), for example using ravel().\n",
      "  return self._fit(X, y)\n",
      "/Users/albinekstrom/Documents/GitHub/BikeFit/venv/lib/python3.7/site-packages/sklearn/neighbors/_classification.py:198: DataConversionWarning: A column-vector y was passed when a 1d array was expected. Please change the shape of y to (n_samples,), for example using ravel().\n",
      "  return self._fit(X, y)\n",
      "/Users/albinekstrom/Documents/GitHub/BikeFit/venv/lib/python3.7/site-packages/sklearn/neighbors/_classification.py:198: DataConversionWarning: A column-vector y was passed when a 1d array was expected. Please change the shape of y to (n_samples,), for example using ravel().\n",
      "  return self._fit(X, y)\n",
      "/Users/albinekstrom/Documents/GitHub/BikeFit/venv/lib/python3.7/site-packages/sklearn/neighbors/_classification.py:198: DataConversionWarning: A column-vector y was passed when a 1d array was expected. Please change the shape of y to (n_samples,), for example using ravel().\n",
      "  return self._fit(X, y)\n",
      "/Users/albinekstrom/Documents/GitHub/BikeFit/venv/lib/python3.7/site-packages/sklearn/neighbors/_classification.py:198: DataConversionWarning: A column-vector y was passed when a 1d array was expected. Please change the shape of y to (n_samples,), for example using ravel().\n",
      "  return self._fit(X, y)\n",
      "/Users/albinekstrom/Documents/GitHub/BikeFit/venv/lib/python3.7/site-packages/sklearn/neighbors/_classification.py:198: DataConversionWarning: A column-vector y was passed when a 1d array was expected. Please change the shape of y to (n_samples,), for example using ravel().\n",
      "  return self._fit(X, y)\n",
      "/Users/albinekstrom/Documents/GitHub/BikeFit/venv/lib/python3.7/site-packages/sklearn/neighbors/_classification.py:198: DataConversionWarning: A column-vector y was passed when a 1d array was expected. Please change the shape of y to (n_samples,), for example using ravel().\n",
      "  return self._fit(X, y)\n",
      "/Users/albinekstrom/Documents/GitHub/BikeFit/venv/lib/python3.7/site-packages/sklearn/neighbors/_classification.py:198: DataConversionWarning: A column-vector y was passed when a 1d array was expected. Please change the shape of y to (n_samples,), for example using ravel().\n",
      "  return self._fit(X, y)\n",
      "/Users/albinekstrom/Documents/GitHub/BikeFit/venv/lib/python3.7/site-packages/sklearn/neighbors/_classification.py:198: DataConversionWarning: A column-vector y was passed when a 1d array was expected. Please change the shape of y to (n_samples,), for example using ravel().\n",
      "  return self._fit(X, y)\n",
      "/Users/albinekstrom/Documents/GitHub/BikeFit/venv/lib/python3.7/site-packages/sklearn/neighbors/_classification.py:198: DataConversionWarning: A column-vector y was passed when a 1d array was expected. Please change the shape of y to (n_samples,), for example using ravel().\n",
      "  return self._fit(X, y)\n",
      "/Users/albinekstrom/Documents/GitHub/BikeFit/venv/lib/python3.7/site-packages/sklearn/neighbors/_classification.py:198: DataConversionWarning: A column-vector y was passed when a 1d array was expected. Please change the shape of y to (n_samples,), for example using ravel().\n",
      "  return self._fit(X, y)\n",
      "/Users/albinekstrom/Documents/GitHub/BikeFit/venv/lib/python3.7/site-packages/sklearn/model_selection/_validation.py:680: DataConversionWarning: A column-vector y was passed when a 1d array was expected. Please change the shape of y to (n_samples,), for example using ravel().\n",
      "  estimator.fit(X_train, y_train, **fit_params)\n",
      "/Users/albinekstrom/Documents/GitHub/BikeFit/venv/lib/python3.7/site-packages/sklearn/model_selection/_validation.py:680: DataConversionWarning: A column-vector y was passed when a 1d array was expected. Please change the shape of y to (n_samples,), for example using ravel().\n",
      "  estimator.fit(X_train, y_train, **fit_params)\n",
      "/Users/albinekstrom/Documents/GitHub/BikeFit/venv/lib/python3.7/site-packages/sklearn/model_selection/_validation.py:680: DataConversionWarning: A column-vector y was passed when a 1d array was expected. Please change the shape of y to (n_samples,), for example using ravel().\n",
      "  estimator.fit(X_train, y_train, **fit_params)\n",
      "/Users/albinekstrom/Documents/GitHub/BikeFit/venv/lib/python3.7/site-packages/sklearn/model_selection/_validation.py:680: DataConversionWarning: A column-vector y was passed when a 1d array was expected. Please change the shape of y to (n_samples,), for example using ravel().\n",
      "  estimator.fit(X_train, y_train, **fit_params)\n",
      "/Users/albinekstrom/Documents/GitHub/BikeFit/venv/lib/python3.7/site-packages/sklearn/model_selection/_validation.py:680: DataConversionWarning: A column-vector y was passed when a 1d array was expected. Please change the shape of y to (n_samples,), for example using ravel().\n",
      "  estimator.fit(X_train, y_train, **fit_params)\n",
      "/Users/albinekstrom/Documents/GitHub/BikeFit/venv/lib/python3.7/site-packages/sklearn/model_selection/_validation.py:680: DataConversionWarning: A column-vector y was passed when a 1d array was expected. Please change the shape of y to (n_samples,), for example using ravel().\n",
      "  estimator.fit(X_train, y_train, **fit_params)\n",
      "/Users/albinekstrom/Documents/GitHub/BikeFit/venv/lib/python3.7/site-packages/sklearn/model_selection/_validation.py:680: DataConversionWarning: A column-vector y was passed when a 1d array was expected. Please change the shape of y to (n_samples,), for example using ravel().\n",
      "  estimator.fit(X_train, y_train, **fit_params)\n",
      "/Users/albinekstrom/Documents/GitHub/BikeFit/venv/lib/python3.7/site-packages/sklearn/model_selection/_validation.py:680: DataConversionWarning: A column-vector y was passed when a 1d array was expected. Please change the shape of y to (n_samples,), for example using ravel().\n",
      "  estimator.fit(X_train, y_train, **fit_params)\n",
      "/Users/albinekstrom/Documents/GitHub/BikeFit/venv/lib/python3.7/site-packages/sklearn/model_selection/_validation.py:680: DataConversionWarning: A column-vector y was passed when a 1d array was expected. Please change the shape of y to (n_samples,), for example using ravel().\n",
      "  estimator.fit(X_train, y_train, **fit_params)\n",
      "/Users/albinekstrom/Documents/GitHub/BikeFit/venv/lib/python3.7/site-packages/sklearn/model_selection/_validation.py:680: DataConversionWarning: A column-vector y was passed when a 1d array was expected. Please change the shape of y to (n_samples,), for example using ravel().\n",
      "  estimator.fit(X_train, y_train, **fit_params)\n",
      "/Users/albinekstrom/Documents/GitHub/BikeFit/venv/lib/python3.7/site-packages/sklearn/model_selection/_validation.py:680: DataConversionWarning: A column-vector y was passed when a 1d array was expected. Please change the shape of y to (n_samples,), for example using ravel().\n",
      "  estimator.fit(X_train, y_train, **fit_params)\n",
      "/Users/albinekstrom/Documents/GitHub/BikeFit/venv/lib/python3.7/site-packages/sklearn/model_selection/_validation.py:680: DataConversionWarning: A column-vector y was passed when a 1d array was expected. Please change the shape of y to (n_samples,), for example using ravel().\n",
      "  estimator.fit(X_train, y_train, **fit_params)\n",
      "/Users/albinekstrom/Documents/GitHub/BikeFit/venv/lib/python3.7/site-packages/sklearn/model_selection/_validation.py:680: DataConversionWarning: A column-vector y was passed when a 1d array was expected. Please change the shape of y to (n_samples,), for example using ravel().\n",
      "  estimator.fit(X_train, y_train, **fit_params)\n",
      "/Users/albinekstrom/Documents/GitHub/BikeFit/venv/lib/python3.7/site-packages/sklearn/model_selection/_validation.py:680: DataConversionWarning: A column-vector y was passed when a 1d array was expected. Please change the shape of y to (n_samples,), for example using ravel().\n",
      "  estimator.fit(X_train, y_train, **fit_params)\n",
      "/Users/albinekstrom/Documents/GitHub/BikeFit/venv/lib/python3.7/site-packages/sklearn/model_selection/_validation.py:680: DataConversionWarning: A column-vector y was passed when a 1d array was expected. Please change the shape of y to (n_samples,), for example using ravel().\n",
      "  estimator.fit(X_train, y_train, **fit_params)\n",
      "/Users/albinekstrom/Documents/GitHub/BikeFit/venv/lib/python3.7/site-packages/sklearn/model_selection/_validation.py:680: DataConversionWarning: A column-vector y was passed when a 1d array was expected. Please change the shape of y to (n_samples,), for example using ravel().\n",
      "  estimator.fit(X_train, y_train, **fit_params)\n",
      "/Users/albinekstrom/Documents/GitHub/BikeFit/venv/lib/python3.7/site-packages/sklearn/model_selection/_validation.py:680: DataConversionWarning: A column-vector y was passed when a 1d array was expected. Please change the shape of y to (n_samples,), for example using ravel().\n",
      "  estimator.fit(X_train, y_train, **fit_params)\n",
      "/Users/albinekstrom/Documents/GitHub/BikeFit/venv/lib/python3.7/site-packages/sklearn/neighbors/_classification.py:198: DataConversionWarning: A column-vector y was passed when a 1d array was expected. Please change the shape of y to (n_samples,), for example using ravel().\n",
      "  return self._fit(X, y)\n",
      "/Users/albinekstrom/Documents/GitHub/BikeFit/venv/lib/python3.7/site-packages/sklearn/neighbors/_classification.py:198: DataConversionWarning: A column-vector y was passed when a 1d array was expected. Please change the shape of y to (n_samples,), for example using ravel().\n",
      "  return self._fit(X, y)\n",
      "/Users/albinekstrom/Documents/GitHub/BikeFit/venv/lib/python3.7/site-packages/sklearn/neighbors/_classification.py:198: DataConversionWarning: A column-vector y was passed when a 1d array was expected. Please change the shape of y to (n_samples,), for example using ravel().\n",
      "  return self._fit(X, y)\n",
      "/Users/albinekstrom/Documents/GitHub/BikeFit/venv/lib/python3.7/site-packages/sklearn/neighbors/_classification.py:198: DataConversionWarning: A column-vector y was passed when a 1d array was expected. Please change the shape of y to (n_samples,), for example using ravel().\n",
      "  return self._fit(X, y)\n",
      "/Users/albinekstrom/Documents/GitHub/BikeFit/venv/lib/python3.7/site-packages/sklearn/neighbors/_classification.py:198: DataConversionWarning: A column-vector y was passed when a 1d array was expected. Please change the shape of y to (n_samples,), for example using ravel().\n",
      "  return self._fit(X, y)\n",
      "/Users/albinekstrom/Documents/GitHub/BikeFit/venv/lib/python3.7/site-packages/sklearn/neighbors/_classification.py:198: DataConversionWarning: A column-vector y was passed when a 1d array was expected. Please change the shape of y to (n_samples,), for example using ravel().\n",
      "  return self._fit(X, y)\n",
      "/Users/albinekstrom/Documents/GitHub/BikeFit/venv/lib/python3.7/site-packages/sklearn/neighbors/_classification.py:198: DataConversionWarning: A column-vector y was passed when a 1d array was expected. Please change the shape of y to (n_samples,), for example using ravel().\n",
      "  return self._fit(X, y)\n",
      "/Users/albinekstrom/Documents/GitHub/BikeFit/venv/lib/python3.7/site-packages/sklearn/neighbors/_classification.py:198: DataConversionWarning: A column-vector y was passed when a 1d array was expected. Please change the shape of y to (n_samples,), for example using ravel().\n",
      "  return self._fit(X, y)\n",
      "/Users/albinekstrom/Documents/GitHub/BikeFit/venv/lib/python3.7/site-packages/sklearn/neighbors/_classification.py:198: DataConversionWarning: A column-vector y was passed when a 1d array was expected. Please change the shape of y to (n_samples,), for example using ravel().\n",
      "  return self._fit(X, y)\n",
      "/Users/albinekstrom/Documents/GitHub/BikeFit/venv/lib/python3.7/site-packages/sklearn/neighbors/_classification.py:198: DataConversionWarning: A column-vector y was passed when a 1d array was expected. Please change the shape of y to (n_samples,), for example using ravel().\n",
      "  return self._fit(X, y)\n",
      "/Users/albinekstrom/Documents/GitHub/BikeFit/venv/lib/python3.7/site-packages/sklearn/neighbors/_classification.py:198: DataConversionWarning: A column-vector y was passed when a 1d array was expected. Please change the shape of y to (n_samples,), for example using ravel().\n",
      "  return self._fit(X, y)\n",
      "/Users/albinekstrom/Documents/GitHub/BikeFit/venv/lib/python3.7/site-packages/sklearn/neighbors/_classification.py:198: DataConversionWarning: A column-vector y was passed when a 1d array was expected. Please change the shape of y to (n_samples,), for example using ravel().\n",
      "  return self._fit(X, y)\n",
      "/Users/albinekstrom/Documents/GitHub/BikeFit/venv/lib/python3.7/site-packages/sklearn/neighbors/_classification.py:198: DataConversionWarning: A column-vector y was passed when a 1d array was expected. Please change the shape of y to (n_samples,), for example using ravel().\n",
      "  return self._fit(X, y)\n",
      "/Users/albinekstrom/Documents/GitHub/BikeFit/venv/lib/python3.7/site-packages/sklearn/neighbors/_classification.py:198: DataConversionWarning: A column-vector y was passed when a 1d array was expected. Please change the shape of y to (n_samples,), for example using ravel().\n",
      "  return self._fit(X, y)\n",
      "/Users/albinekstrom/Documents/GitHub/BikeFit/venv/lib/python3.7/site-packages/sklearn/neighbors/_classification.py:198: DataConversionWarning: A column-vector y was passed when a 1d array was expected. Please change the shape of y to (n_samples,), for example using ravel().\n",
      "  return self._fit(X, y)\n",
      "/Users/albinekstrom/Documents/GitHub/BikeFit/venv/lib/python3.7/site-packages/sklearn/neighbors/_classification.py:198: DataConversionWarning: A column-vector y was passed when a 1d array was expected. Please change the shape of y to (n_samples,), for example using ravel().\n",
      "  return self._fit(X, y)\n",
      "/Users/albinekstrom/Documents/GitHub/BikeFit/venv/lib/python3.7/site-packages/sklearn/neighbors/_classification.py:198: DataConversionWarning: A column-vector y was passed when a 1d array was expected. Please change the shape of y to (n_samples,), for example using ravel().\n",
      "  return self._fit(X, y)\n",
      "/Users/albinekstrom/Documents/GitHub/BikeFit/venv/lib/python3.7/site-packages/sklearn/neighbors/_classification.py:198: DataConversionWarning: A column-vector y was passed when a 1d array was expected. Please change the shape of y to (n_samples,), for example using ravel().\n",
      "  return self._fit(X, y)\n",
      "/Users/albinekstrom/Documents/GitHub/BikeFit/venv/lib/python3.7/site-packages/sklearn/neighbors/_classification.py:198: DataConversionWarning: A column-vector y was passed when a 1d array was expected. Please change the shape of y to (n_samples,), for example using ravel().\n",
      "  return self._fit(X, y)\n",
      "/Users/albinekstrom/Documents/GitHub/BikeFit/venv/lib/python3.7/site-packages/sklearn/neighbors/_classification.py:198: DataConversionWarning: A column-vector y was passed when a 1d array was expected. Please change the shape of y to (n_samples,), for example using ravel().\n",
      "  return self._fit(X, y)\n",
      "/Users/albinekstrom/Documents/GitHub/BikeFit/venv/lib/python3.7/site-packages/sklearn/neighbors/_classification.py:198: DataConversionWarning: A column-vector y was passed when a 1d array was expected. Please change the shape of y to (n_samples,), for example using ravel().\n",
      "  return self._fit(X, y)\n",
      "/Users/albinekstrom/Documents/GitHub/BikeFit/venv/lib/python3.7/site-packages/sklearn/neighbors/_classification.py:198: DataConversionWarning: A column-vector y was passed when a 1d array was expected. Please change the shape of y to (n_samples,), for example using ravel().\n",
      "  return self._fit(X, y)\n",
      "/Users/albinekstrom/Documents/GitHub/BikeFit/venv/lib/python3.7/site-packages/sklearn/neighbors/_classification.py:198: DataConversionWarning: A column-vector y was passed when a 1d array was expected. Please change the shape of y to (n_samples,), for example using ravel().\n",
      "  return self._fit(X, y)\n",
      "/Users/albinekstrom/Documents/GitHub/BikeFit/venv/lib/python3.7/site-packages/sklearn/neighbors/_classification.py:198: DataConversionWarning: A column-vector y was passed when a 1d array was expected. Please change the shape of y to (n_samples,), for example using ravel().\n",
      "  return self._fit(X, y)\n",
      "/Users/albinekstrom/Documents/GitHub/BikeFit/venv/lib/python3.7/site-packages/sklearn/neighbors/_classification.py:198: DataConversionWarning: A column-vector y was passed when a 1d array was expected. Please change the shape of y to (n_samples,), for example using ravel().\n",
      "  return self._fit(X, y)\n",
      "/Users/albinekstrom/Documents/GitHub/BikeFit/venv/lib/python3.7/site-packages/sklearn/neighbors/_classification.py:198: DataConversionWarning: A column-vector y was passed when a 1d array was expected. Please change the shape of y to (n_samples,), for example using ravel().\n",
      "  return self._fit(X, y)\n",
      "/Users/albinekstrom/Documents/GitHub/BikeFit/venv/lib/python3.7/site-packages/sklearn/neighbors/_classification.py:198: DataConversionWarning: A column-vector y was passed when a 1d array was expected. Please change the shape of y to (n_samples,), for example using ravel().\n",
      "  return self._fit(X, y)\n",
      "/Users/albinekstrom/Documents/GitHub/BikeFit/venv/lib/python3.7/site-packages/sklearn/neighbors/_classification.py:198: DataConversionWarning: A column-vector y was passed when a 1d array was expected. Please change the shape of y to (n_samples,), for example using ravel().\n",
      "  return self._fit(X, y)\n",
      "/Users/albinekstrom/Documents/GitHub/BikeFit/venv/lib/python3.7/site-packages/sklearn/neighbors/_classification.py:198: DataConversionWarning: A column-vector y was passed when a 1d array was expected. Please change the shape of y to (n_samples,), for example using ravel().\n",
      "  return self._fit(X, y)\n",
      "/Users/albinekstrom/Documents/GitHub/BikeFit/venv/lib/python3.7/site-packages/sklearn/neighbors/_classification.py:198: DataConversionWarning: A column-vector y was passed when a 1d array was expected. Please change the shape of y to (n_samples,), for example using ravel().\n",
      "  return self._fit(X, y)\n",
      "/Users/albinekstrom/Documents/GitHub/BikeFit/venv/lib/python3.7/site-packages/sklearn/model_selection/_validation.py:680: DataConversionWarning: A column-vector y was passed when a 1d array was expected. Please change the shape of y to (n_samples,), for example using ravel().\n",
      "  estimator.fit(X_train, y_train, **fit_params)\n",
      "/Users/albinekstrom/Documents/GitHub/BikeFit/venv/lib/python3.7/site-packages/sklearn/model_selection/_validation.py:680: DataConversionWarning: A column-vector y was passed when a 1d array was expected. Please change the shape of y to (n_samples,), for example using ravel().\n",
      "  estimator.fit(X_train, y_train, **fit_params)\n",
      "/Users/albinekstrom/Documents/GitHub/BikeFit/venv/lib/python3.7/site-packages/sklearn/model_selection/_validation.py:680: DataConversionWarning: A column-vector y was passed when a 1d array was expected. Please change the shape of y to (n_samples,), for example using ravel().\n",
      "  estimator.fit(X_train, y_train, **fit_params)\n",
      "/Users/albinekstrom/Documents/GitHub/BikeFit/venv/lib/python3.7/site-packages/sklearn/model_selection/_validation.py:680: DataConversionWarning: A column-vector y was passed when a 1d array was expected. Please change the shape of y to (n_samples,), for example using ravel().\n",
      "  estimator.fit(X_train, y_train, **fit_params)\n",
      "/Users/albinekstrom/Documents/GitHub/BikeFit/venv/lib/python3.7/site-packages/sklearn/model_selection/_validation.py:680: DataConversionWarning: A column-vector y was passed when a 1d array was expected. Please change the shape of y to (n_samples,), for example using ravel().\n",
      "  estimator.fit(X_train, y_train, **fit_params)\n",
      "/Users/albinekstrom/Documents/GitHub/BikeFit/venv/lib/python3.7/site-packages/sklearn/model_selection/_validation.py:680: DataConversionWarning: A column-vector y was passed when a 1d array was expected. Please change the shape of y to (n_samples,), for example using ravel().\n",
      "  estimator.fit(X_train, y_train, **fit_params)\n",
      "/Users/albinekstrom/Documents/GitHub/BikeFit/venv/lib/python3.7/site-packages/sklearn/model_selection/_validation.py:680: DataConversionWarning: A column-vector y was passed when a 1d array was expected. Please change the shape of y to (n_samples,), for example using ravel().\n",
      "  estimator.fit(X_train, y_train, **fit_params)\n",
      "/Users/albinekstrom/Documents/GitHub/BikeFit/venv/lib/python3.7/site-packages/sklearn/model_selection/_validation.py:680: DataConversionWarning: A column-vector y was passed when a 1d array was expected. Please change the shape of y to (n_samples,), for example using ravel().\n",
      "  estimator.fit(X_train, y_train, **fit_params)\n",
      "/Users/albinekstrom/Documents/GitHub/BikeFit/venv/lib/python3.7/site-packages/sklearn/model_selection/_validation.py:680: DataConversionWarning: A column-vector y was passed when a 1d array was expected. Please change the shape of y to (n_samples,), for example using ravel().\n",
      "  estimator.fit(X_train, y_train, **fit_params)\n",
      "/Users/albinekstrom/Documents/GitHub/BikeFit/venv/lib/python3.7/site-packages/sklearn/model_selection/_validation.py:680: DataConversionWarning: A column-vector y was passed when a 1d array was expected. Please change the shape of y to (n_samples,), for example using ravel().\n",
      "  estimator.fit(X_train, y_train, **fit_params)\n",
      "/Users/albinekstrom/Documents/GitHub/BikeFit/venv/lib/python3.7/site-packages/sklearn/model_selection/_validation.py:680: DataConversionWarning: A column-vector y was passed when a 1d array was expected. Please change the shape of y to (n_samples,), for example using ravel().\n",
      "  estimator.fit(X_train, y_train, **fit_params)\n",
      "/Users/albinekstrom/Documents/GitHub/BikeFit/venv/lib/python3.7/site-packages/sklearn/model_selection/_validation.py:680: DataConversionWarning: A column-vector y was passed when a 1d array was expected. Please change the shape of y to (n_samples,), for example using ravel().\n",
      "  estimator.fit(X_train, y_train, **fit_params)\n",
      "/Users/albinekstrom/Documents/GitHub/BikeFit/venv/lib/python3.7/site-packages/sklearn/model_selection/_validation.py:680: DataConversionWarning: A column-vector y was passed when a 1d array was expected. Please change the shape of y to (n_samples,), for example using ravel().\n",
      "  estimator.fit(X_train, y_train, **fit_params)\n",
      "/Users/albinekstrom/Documents/GitHub/BikeFit/venv/lib/python3.7/site-packages/sklearn/model_selection/_validation.py:680: DataConversionWarning: A column-vector y was passed when a 1d array was expected. Please change the shape of y to (n_samples,), for example using ravel().\n",
      "  estimator.fit(X_train, y_train, **fit_params)\n",
      "/Users/albinekstrom/Documents/GitHub/BikeFit/venv/lib/python3.7/site-packages/sklearn/model_selection/_validation.py:680: DataConversionWarning: A column-vector y was passed when a 1d array was expected. Please change the shape of y to (n_samples,), for example using ravel().\n",
      "  estimator.fit(X_train, y_train, **fit_params)\n",
      "/Users/albinekstrom/Documents/GitHub/BikeFit/venv/lib/python3.7/site-packages/sklearn/model_selection/_validation.py:680: DataConversionWarning: A column-vector y was passed when a 1d array was expected. Please change the shape of y to (n_samples,), for example using ravel().\n",
      "  estimator.fit(X_train, y_train, **fit_params)\n",
      "/Users/albinekstrom/Documents/GitHub/BikeFit/venv/lib/python3.7/site-packages/sklearn/model_selection/_validation.py:680: DataConversionWarning: A column-vector y was passed when a 1d array was expected. Please change the shape of y to (n_samples,), for example using ravel().\n",
      "  estimator.fit(X_train, y_train, **fit_params)\n"
     ]
    }
   ],
   "source": [
    "# Random Forest\n",
    "def forest(X_test, X_train, y_train, y_test, level):\n",
    "    forest_classifier = RandomForestClassifier(max_features = 'log2', n_estimators = 1000, criterion = 'entropy')\n",
    "    forest_classifier.fit(X_train, y_train)\n",
    "    \n",
    "    # MAKE PREDICTION\n",
    "    y_pred = forest_classifier.predict(X_test)\n",
    "    score1 = accuracy_score(y_test, y_pred)\n",
    "    print(f\"Logistic Regression at level {level}\")\n",
    "    print(\"=====================================\")\n",
    "    print(f\"The accuracy score is: {score1}\")\n",
    "    \n",
    "    # Confusion matrix\n",
    "    cm = confusion_matrix(y_test, y_pred)\n",
    "    print(f\"The confusion matrix at level {level} is: \\n {cm}\")\n",
    "    \n",
    "    # Cross validation\n",
    "    scores = cross_val_score(forest_classifier, X_train, y_train, cv=10)\n",
    "    print(f\"The cv scores at level {level} are {scores}\")\n",
    "    print(f\"The mean accuracy of cv: {np.mean(cross_val_score(forest_classifier, X_train, y_train, cv=10))}\")\n",
    "    \n",
    "    #y_pred = classifier.predict(X_test)\n",
    "    ConfusionMatrixDisplay.from_predictions(y_test, y_pred)\n",
    "    plt.show()\n",
    "\n",
    "\n",
    "for (X_test, X_train, y_train, y_test, level) in data_list:\n",
    "    forest_classifier = forest(X_test, X_train, y_train, y_test, level)"
   ]
  },
  {
   "cell_type": "markdown",
   "id": "d1089e9f",
   "metadata": {},
   "source": [
    "## Naive Bayes"
   ]
  },
  {
   "cell_type": "code",
   "execution_count": 55,
   "id": "2f1d7c9d",
   "metadata": {},
   "outputs": [
    {
     "name": "stdout",
     "output_type": "stream",
     "text": [
      "Logistic Regression at level 1\n",
      "=====================================\n",
      "The accuracy score is: 0.5\n",
      "The confusion matrix at level 1 is: \n",
      " [[4 0]\n",
      " [4 0]]\n",
      "The cv scores at level 1 are [0.25       0.25       0.66666667 0.66666667 1.         0.66666667\n",
      " 0.66666667 0.33333333 0.33333333 0.66666667]\n",
      "The mean accuracy of cv: 0.55\n"
     ]
    },
    {
     "data": {
      "image/png": "[encoded data removed]",
      "text/plain": [
       "<Figure size 432x288 with 2 Axes>"
      ]
     },
     "metadata": {},
     "output_type": "display_data"
    },
    {
     "name": "stdout",
     "output_type": "stream",
     "text": [
      "Logistic Regression at level 2\n",
      "=====================================\n",
      "The accuracy score is: 0.625\n",
      "The confusion matrix at level 2 is: \n",
      " [[1 2]\n",
      " [1 4]]\n",
      "The cv scores at level 2 are [0.75       0.75       1.         0.66666667 0.33333333 0.66666667\n",
      " 0.66666667 0.33333333 0.33333333 0.33333333]\n",
      "The mean accuracy of cv: 0.5833333333333333\n"
     ]
    },
    {
     "data": {
      "image/png": "[encoded data removed]",
      "text/plain": [
       "<Figure size 432x288 with 2 Axes>"
      ]
     },
     "metadata": {},
     "output_type": "display_data"
    },
    {
     "name": "stdout",
     "output_type": "stream",
     "text": [
      "Logistic Regression at level 3\n",
      "=====================================\n",
      "The accuracy score is: 0.75\n",
      "The confusion matrix at level 3 is: \n",
      " [[1 1]\n",
      " [1 5]]\n",
      "The cv scores at level 3 are [0.75       0.25       0.66666667 0.33333333 0.33333333 1.\n",
      " 0.33333333 0.33333333 0.66666667 0.33333333]\n",
      "The mean accuracy of cv: 0.5\n"
     ]
    },
    {
     "data": {
      "image/png": "[encoded data removed]",
      "text/plain": [
       "<Figure size 432x288 with 2 Axes>"
      ]
     },
     "metadata": {},
     "output_type": "display_data"
    },
    {
     "name": "stdout",
     "output_type": "stream",
     "text": [
      "Logistic Regression at level 4\n",
      "=====================================\n",
      "The accuracy score is: 0.75\n",
      "The confusion matrix at level 4 is: \n",
      " [[4 1]\n",
      " [1 2]]\n",
      "The cv scores at level 4 are [0.75       0.5        0.66666667 0.33333333 0.         0.33333333\n",
      " 0.         0.33333333 0.33333333 0.        ]\n",
      "The mean accuracy of cv: 0.325\n"
     ]
    },
    {
     "data": {
      "image/png": "[encoded data removed]",
      "text/plain": [
       "<Figure size 432x288 with 2 Axes>"
      ]
     },
     "metadata": {},
     "output_type": "display_data"
    },
    {
     "name": "stdout",
     "output_type": "stream",
     "text": [
      "Logistic Regression at level ALL\n",
      "=====================================\n",
      "The accuracy score is: 0.3125\n",
      "The confusion matrix at level ALL is: \n",
      " [[ 4 18]\n",
      " [ 4  6]]\n",
      "The cv scores at level ALL are [0.53846154 0.76923077 0.61538462 0.61538462 0.61538462 0.61538462\n",
      " 0.69230769 0.69230769 0.83333333 0.5       ]\n",
      "The mean accuracy of cv: 0.6487179487179486\n"
     ]
    },
    {
     "data": {
      "image/png": "[encoded data removed]",
      "text/plain": [
       "<Figure size 432x288 with 2 Axes>"
      ]
     },
     "metadata": {},
     "output_type": "display_data"
    }
   ],
   "source": [
    "#Naive Bayes\n",
    "def naive(X_test, X_train, y_train, y_test, level):\n",
    "    naive_classifier = GaussianNB()\n",
    "    naive_classifier.fit(X_train, y_train)\n",
    "    \n",
    "    # MAKE PREDICTION\n",
    "    y_pred = naive_classifier.predict(X_test)\n",
    "    score1 = accuracy_score(y_test, y_pred)\n",
    "    print(f\"Logistic Regression at level {level}\")\n",
    "    print(\"=====================================\")\n",
    "    print(f\"The accuracy score is: {score1}\")\n",
    "    \n",
    "    # Confusion matrix\n",
    "    cm = confusion_matrix(y_test, y_pred)\n",
    "    print(f\"The confusion matrix at level {level} is: \\n {cm}\")\n",
    "    \n",
    "    # Cross validation\n",
    "    scores = cross_val_score(naive_classifier, X_train, y_train, cv=10)\n",
    "    print(f\"The cv scores at level {level} are {scores}\")\n",
    "    print(f\"The mean accuracy of cv: {np.mean(cross_val_score(naive_classifier, X_train, y_train, cv=10))}\")\n",
    "    \n",
    "    #y_pred = classifier.predict(X_test)\n",
    "    ConfusionMatrixDisplay.from_predictions(y_test, y_pred)\n",
    "    plt.show()\n",
    "    \n",
    "for (X_test, X_train, y_train, y_test, level) in data_list:\n",
    "    naive(X_test, X_train, y_train, y_test, level)"
   ]
  },
  {
   "cell_type": "markdown",
   "id": "51351a26",
   "metadata": {},
   "source": [
    "## K-nearest neighbour (KNC) "
   ]
  },
  {
   "cell_type": "code",
   "execution_count": 67,
   "id": "73aa86de",
   "metadata": {},
   "outputs": [
    {
     "name": "stdout",
     "output_type": "stream",
     "text": [
      "KNC at level 1\n",
      "=====================================\n",
      "The accuracy score is: 0.375\n",
      "The confusion matrix at level 1 is: \n",
      " [[1 3]\n",
      " [2 2]]\n",
      "The cv scores at level 1 are [0.5        1.         0.33333333 0.66666667 0.66666667 0.66666667\n",
      " 0.66666667 0.33333333 0.33333333 0.33333333]\n",
      "The mean accuracy of cv: 0.5499999999999999\n"
     ]
    },
    {
     "data": {
      "image/png": "[encoded data removed]",
      "text/plain": [
       "<Figure size 432x288 with 2 Axes>"
      ]
     },
     "metadata": {},
     "output_type": "display_data"
    },
    {
     "name": "stdout",
     "output_type": "stream",
     "text": [
      "KNC at level 2\n",
      "=====================================\n",
      "The accuracy score is: 0.5\n",
      "The confusion matrix at level 2 is: \n",
      " [[2 1]\n",
      " [3 2]]\n",
      "The cv scores at level 2 are [0.5        0.         0.66666667 0.33333333 0.33333333 0.66666667\n",
      " 0.33333333 0.         0.66666667 0.        ]\n",
      "The mean accuracy of cv: 0.35\n"
     ]
    },
    {
     "data": {
      "image/png": "[encoded data removed]",
      "text/plain": [
       "<Figure size 432x288 with 2 Axes>"
      ]
     },
     "metadata": {},
     "output_type": "display_data"
    },
    {
     "name": "stdout",
     "output_type": "stream",
     "text": [
      "KNC at level 3\n",
      "=====================================\n",
      "The accuracy score is: 0.5\n",
      "The confusion matrix at level 3 is: \n",
      " [[1 1]\n",
      " [3 3]]\n",
      "The cv scores at level 3 are [0.5        0.5        0.33333333 0.         0.33333333 0.66666667\n",
      " 0.66666667 0.         0.33333333 0.66666667]\n",
      "The mean accuracy of cv: 0.4\n"
     ]
    },
    {
     "data": {
      "image/png": "[encoded data removed]",
      "text/plain": [
       "<Figure size 432x288 with 2 Axes>"
      ]
     },
     "metadata": {},
     "output_type": "display_data"
    },
    {
     "name": "stdout",
     "output_type": "stream",
     "text": [
      "KNC at level 4\n",
      "=====================================\n",
      "The accuracy score is: 0.5\n",
      "The confusion matrix at level 4 is: \n",
      " [[1 4]\n",
      " [0 3]]\n",
      "The cv scores at level 4 are [0.         0.5        0.66666667 0.         0.         0.33333333\n",
      " 0.66666667 0.33333333 0.33333333 0.        ]\n",
      "The mean accuracy of cv: 0.2833333333333333\n"
     ]
    },
    {
     "data": {
      "image/png": "[encoded data removed]",
      "text/plain": [
       "<Figure size 432x288 with 2 Axes>"
      ]
     },
     "metadata": {},
     "output_type": "display_data"
    },
    {
     "name": "stdout",
     "output_type": "stream",
     "text": [
      "KNC at level ALL\n",
      "=====================================\n",
      "The accuracy score is: 0.84375\n",
      "The confusion matrix at level ALL is: \n",
      " [[18  4]\n",
      " [ 1  9]]\n",
      "The cv scores at level ALL are [0.92307692 0.76923077 0.92307692 0.92307692 0.92307692 0.92307692\n",
      " 0.92307692 0.92307692 1.         0.91666667]\n",
      "The mean accuracy of cv: 0.9147435897435898\n"
     ]
    },
    {
     "data": {
      "image/png": "[encoded data removed]",
      "text/plain": [
       "<Figure size 432x288 with 2 Axes>"
      ]
     },
     "metadata": {},
     "output_type": "display_data"
    }
   ],
   "source": [
    "#KNC\n",
    "def knc(X_test, X_train, y_train, y_test, level):\n",
    "    KNC_classifier = KNeighborsClassifier(n_neighbors = 1, metric = 'manhattan', weights = 'uniform', p = 2)\n",
    "    KNC_classifier.fit(X_train, y_train)\n",
    "    \n",
    "    # MAKE PREDICTION\n",
    "    y_pred = KNC_classifier.predict(X_test)\n",
    "    score1 = accuracy_score(y_test, y_pred)\n",
    "    print(f\"KNC at level {level}\")\n",
    "    print(\"=====================================\")\n",
    "    print(f\"The accuracy score is: {score1}\")\n",
    "    \n",
    "    # Confusion matrix\n",
    "    cm = confusion_matrix(y_test, y_pred)\n",
    "    print(f\"The confusion matrix at level {level} is: \\n {cm}\")\n",
    "    \n",
    "    # Cross validation\n",
    "    scores = cross_val_score(KNC_classifier, X_train, y_train, cv=10)\n",
    "    print(f\"The cv scores at level {level} are {scores}\")\n",
    "    print(f\"The mean accuracy of cv: {np.mean(cross_val_score(KNC_classifier, X_train, y_train, cv=10))}\")\n",
    "    \n",
    "    #y_pred = classifier.predict(X_test)\n",
    "    ConfusionMatrixDisplay.from_predictions(y_test, y_pred)\n",
    "    plt.show()\n",
    "    \n",
    "for (X_test, X_train, y_train, y_test, level) in data_list:\n",
    "    knc(X_test, X_train, y_train, y_test, level)"
   ]
  },
  {
   "cell_type": "markdown",
   "id": "4c006e8e",
   "metadata": {},
   "source": [
    "## Linear support vector classification (SVC)"
   ]
  },
  {
   "cell_type": "code",
   "execution_count": 57,
   "id": "906f765c",
   "metadata": {},
   "outputs": [
    {
     "name": "stdout",
     "output_type": "stream",
     "text": [
      "SVC at level 1\n",
      "=====================================\n",
      "The accuracy score is: 0.375\n",
      "The confusion matrix at level 1 is: \n",
      " [[1 3]\n",
      " [2 2]]\n",
      "The cv scores at level 1 are [0.5        0.75       0.66666667 0.33333333 1.         1.\n",
      " 0.33333333 0.         0.66666667 0.66666667]\n",
      "The mean accuracy of cv: 0.5916666666666668\n"
     ]
    },
    {
     "data": {
      "image/png": "[encoded data removed]",
      "text/plain": [
       "<Figure size 432x288 with 2 Axes>"
      ]
     },
     "metadata": {},
     "output_type": "display_data"
    },
    {
     "name": "stdout",
     "output_type": "stream",
     "text": [
      "SVC at level 2\n",
      "=====================================\n",
      "The accuracy score is: 0.5\n",
      "The confusion matrix at level 2 is: \n",
      " [[1 2]\n",
      " [2 3]]\n",
      "The cv scores at level 2 are [0.75       0.75       1.         0.66666667 1.         1.\n",
      " 1.         0.66666667 0.66666667 0.        ]\n",
      "The mean accuracy of cv: 0.75\n"
     ]
    },
    {
     "data": {
      "image/png": "[encoded data removed]",
      "text/plain": [
       "<Figure size 432x288 with 2 Axes>"
      ]
     },
     "metadata": {},
     "output_type": "display_data"
    },
    {
     "name": "stdout",
     "output_type": "stream",
     "text": [
      "SVC at level 3\n",
      "=====================================\n",
      "The accuracy score is: 0.625\n",
      "The confusion matrix at level 3 is: \n",
      " [[1 1]\n",
      " [2 4]]\n",
      "The cv scores at level 3 are [0.75       0.5        0.33333333 0.33333333 1.         0.66666667\n",
      " 0.66666667 0.33333333 0.33333333 0.33333333]\n",
      "The mean accuracy of cv: 0.5249999999999999\n"
     ]
    },
    {
     "data": {
      "image/png": "[encoded data removed]",
      "text/plain": [
       "<Figure size 432x288 with 2 Axes>"
      ]
     },
     "metadata": {},
     "output_type": "display_data"
    },
    {
     "name": "stdout",
     "output_type": "stream",
     "text": [
      "SVC at level 4\n",
      "=====================================\n",
      "The accuracy score is: 0.75\n",
      "The confusion matrix at level 4 is: \n",
      " [[4 1]\n",
      " [1 2]]\n",
      "The cv scores at level 4 are [0.25       0.75       0.33333333 0.33333333 0.33333333 1.\n",
      " 0.33333333 0.         0.33333333 0.        ]\n",
      "The mean accuracy of cv: 0.36666666666666664\n"
     ]
    },
    {
     "data": {
      "image/png": "[encoded data removed]",
      "text/plain": [
       "<Figure size 432x288 with 2 Axes>"
      ]
     },
     "metadata": {},
     "output_type": "display_data"
    },
    {
     "name": "stdout",
     "output_type": "stream",
     "text": [
      "SVC at level ALL\n",
      "=====================================\n",
      "The accuracy score is: 0.78125\n",
      "The confusion matrix at level ALL is: \n",
      " [[18  4]\n",
      " [ 3  7]]\n",
      "The cv scores at level ALL are [0.76923077 0.84615385 1.         0.61538462 0.84615385 0.84615385\n",
      " 0.76923077 0.76923077 0.83333333 0.91666667]\n",
      "The mean accuracy of cv: 0.8211538461538461\n"
     ]
    },
    {
     "data": {
      "image/png": "[encoded data removed]",
      "text/plain": [
       "<Figure size 432x288 with 2 Axes>"
      ]
     },
     "metadata": {},
     "output_type": "display_data"
    }
   ],
   "source": [
    "#SVC\n",
    "def svc(X_test, X_train, y_train, y_test, level):\n",
    "    SVC_classifier = SVC(kernel = 'linear', random_state = 0)\n",
    "    SVC_classifier.fit(X_train, y_train)\n",
    "    \n",
    "    # MAKE PREDICTION\n",
    "    y_pred = SVC_classifier.predict(X_test)\n",
    "    score1 = accuracy_score(y_test, y_pred)\n",
    "    print(f\"SVC at level {level}\")\n",
    "    print(\"=====================================\")\n",
    "    print(f\"The accuracy score is: {score1}\")\n",
    "    \n",
    "    # Confusion matrix\n",
    "    cm = confusion_matrix(y_test, y_pred)\n",
    "    print(f\"The confusion matrix at level {level} is: \\n {cm}\")\n",
    "    \n",
    "    # Cross validation\n",
    "    scores = cross_val_score(SVC_classifier, X_train, y_train, cv=10)\n",
    "    print(f\"The cv scores at level {level} are {scores}\")\n",
    "    print(f\"The mean accuracy of cv: {np.mean(cross_val_score(SVC_classifier, X_train, y_train, cv=10))}\")\n",
    "    \n",
    "    #y_pred = classifier.predict(X_test)\n",
    "    ConfusionMatrixDisplay.from_predictions(y_test, y_pred)\n",
    "    plt.show()\n",
    "    \n",
    "for (X_test, X_train, y_train, y_test, level) in data_list:\n",
    "    svc(X_test, X_train, y_train, y_test, level)"
   ]
  },
  {
   "cell_type": "markdown",
   "id": "231573d7",
   "metadata": {},
   "source": [
    "## XGBoost"
   ]
  },
  {
   "cell_type": "code",
   "execution_count": 60,
   "id": "8c46e346",
   "metadata": {},
   "outputs": [
    {
     "name": "stdout",
     "output_type": "stream",
     "text": [
      "SVC at level 1\n",
      "=====================================\n",
      "The accuracy score is: 0.375\n",
      "The confusion matrix at level 1 is: \n",
      " [[2 2]\n",
      " [3 1]]\n",
      "The cv scores at level 1 are [0.75       0.5        1.         0.33333333 0.66666667 0.66666667\n",
      " 0.66666667 0.33333333 1.         0.66666667]\n",
      "The mean accuracy of cv: 0.6583333333333333\n"
     ]
    },
    {
     "data": {
      "image/png": "[encoded data removed]",
      "text/plain": [
       "<Figure size 432x288 with 2 Axes>"
      ]
     },
     "metadata": {},
     "output_type": "display_data"
    },
    {
     "name": "stdout",
     "output_type": "stream",
     "text": [
      "SVC at level 2\n",
      "=====================================\n",
      "The accuracy score is: 0.5\n",
      "The confusion matrix at level 2 is: \n",
      " [[1 2]\n",
      " [2 3]]\n",
      "The cv scores at level 2 are [0.75       0.5        1.         0.66666667 0.33333333 0.33333333\n",
      " 0.66666667 1.         0.66666667 0.33333333]\n",
      "The mean accuracy of cv: 0.625\n"
     ]
    },
    {
     "data": {
      "image/png": "[encoded data removed]",
      "text/plain": [
       "<Figure size 432x288 with 2 Axes>"
      ]
     },
     "metadata": {},
     "output_type": "display_data"
    },
    {
     "name": "stdout",
     "output_type": "stream",
     "text": [
      "SVC at level 3\n",
      "=====================================\n",
      "The accuracy score is: 0.75\n",
      "The confusion matrix at level 3 is: \n",
      " [[1 1]\n",
      " [1 5]]\n",
      "The cv scores at level 3 are [0.25       0.25       1.         0.         0.33333333 0.66666667\n",
      " 0.66666667 0.         0.33333333 0.33333333]\n",
      "The mean accuracy of cv: 0.38333333333333336\n"
     ]
    },
    {
     "data": {
      "image/png": "[encoded data removed]",
      "text/plain": [
       "<Figure size 432x288 with 2 Axes>"
      ]
     },
     "metadata": {},
     "output_type": "display_data"
    },
    {
     "name": "stdout",
     "output_type": "stream",
     "text": [
      "SVC at level 4\n",
      "=====================================\n",
      "The accuracy score is: 0.75\n",
      "The confusion matrix at level 4 is: \n",
      " [[4 1]\n",
      " [1 2]]\n",
      "The cv scores at level 4 are [0.75       0.75       0.66666667 0.66666667 0.         0.66666667\n",
      " 0.         0.66666667 0.33333333 0.33333333]\n",
      "The mean accuracy of cv: 0.4833333333333332\n"
     ]
    },
    {
     "data": {
      "image/png": "[encoded data removed]",
      "text/plain": [
       "<Figure size 432x288 with 2 Axes>"
      ]
     },
     "metadata": {},
     "output_type": "display_data"
    },
    {
     "name": "stdout",
     "output_type": "stream",
     "text": [
      "SVC at level ALL\n",
      "=====================================\n",
      "The accuracy score is: 0.71875\n",
      "The confusion matrix at level ALL is: \n",
      " [[15  7]\n",
      " [ 2  8]]\n",
      "The cv scores at level ALL are [0.76923077 0.84615385 0.84615385 0.84615385 0.61538462 0.61538462\n",
      " 0.92307692 1.         1.         0.83333333]\n",
      "The mean accuracy of cv: 0.8294871794871795\n"
     ]
    },
    {
     "data": {
      "image/png": "[encoded data removed]",
      "text/plain": [
       "<Figure size 432x288 with 2 Axes>"
      ]
     },
     "metadata": {},
     "output_type": "display_data"
    }
   ],
   "source": [
    "#XGB\n",
    "\n",
    "def xgb(X_test, X_train, y_train, y_test, level):\n",
    "    XGB_classifier = XGBClassifier(use_label_encoder = False,\n",
    "                              learning_rate=0.1,\n",
    "                              max_depth=10,\n",
    "                              scale_pos_weight=1.5,\n",
    "                              eval_metric='mlogloss')\n",
    "    XGB_classifier.fit(X_train, y_train)\n",
    "    \n",
    "    # MAKE PREDICTION\n",
    "    y_pred = XGB_classifier.predict(X_test)\n",
    "    score1 = accuracy_score(y_test, y_pred)\n",
    "    print(f\"SVC at level {level}\")\n",
    "    print(\"=====================================\")\n",
    "    print(f\"The accuracy score is: {score1}\")\n",
    "    \n",
    "    # Confusion matrix\n",
    "    cm = confusion_matrix(y_test, y_pred)\n",
    "    print(f\"The confusion matrix at level {level} is: \\n {cm}\")\n",
    "    \n",
    "    # Cross validation\n",
    "    scores = cross_val_score(XGB_classifier, X_train, y_train, cv=10)\n",
    "    print(f\"The cv scores at level {level} are {scores}\")\n",
    "    print(f\"The mean accuracy of cv: {np.mean(cross_val_score(XGB_classifier, X_train, y_train, cv=10))}\")\n",
    "    \n",
    "    #y_pred = classifier.predict(X_test)\n",
    "    ConfusionMatrixDisplay.from_predictions(y_test, y_pred)\n",
    "    plt.show()\n",
    "\n",
    "\n",
    "for (X_test, X_train, y_train, y_test, level) in data_list:\n",
    "    xgb(X_test, X_train, y_train, y_test, level)"
   ]
  },
  {
   "cell_type": "code",
   "execution_count": 70,
   "id": "c0a576ab",
   "metadata": {},
   "outputs": [
    {
     "name": "stdout",
     "output_type": "stream",
     "text": [
      "Best: 0.867094 using {'max_features': 'log2', 'n_estimators': 1000}\n",
      "0.789316 (0.106826) with: {'max_features': 'sqrt', 'n_estimators': 10}\n",
      "0.854274 (0.097455) with: {'max_features': 'sqrt', 'n_estimators': 100}\n",
      "0.851068 (0.106645) with: {'max_features': 'sqrt', 'n_estimators': 1000}\n",
      "0.766026 (0.119097) with: {'max_features': 'log2', 'n_estimators': 10}\n",
      "0.851068 (0.096958) with: {'max_features': 'log2', 'n_estimators': 100}\n",
      "0.867094 (0.094486) with: {'max_features': 'log2', 'n_estimators': 1000}\n"
     ]
    }
   ],
   "source": [
    "from sklearn.model_selection import RepeatedStratifiedKFold\n",
    "from sklearn.model_selection import GridSearchCV\n",
    "from sklearn.linear_model import LogisticRegression\n",
    "\n",
    "\n",
    "model = RandomForestClassifier()\n",
    "n_estimators = [10, 100, 1000]\n",
    "max_features = ['sqrt', 'log2']\n",
    "# define grid search\n",
    "grid = dict(n_estimators=n_estimators,max_features=max_features)\n",
    "cv = RepeatedStratifiedKFold(n_splits=10, n_repeats=3, random_state=1)\n",
    "grid_search = GridSearchCV(estimator=model, param_grid=grid, n_jobs=-1, cv=cv, scoring='accuracy',error_score=0)\n",
    "\n",
    "grid_result = grid_search.fit(X_train, y_train.values.ravel())\n",
    "\n",
    "# summarize results\n",
    "print(\"Best: %f using %s\" % (grid_result.best_score_, grid_result.best_params_))\n",
    "means = grid_result.cv_results_['mean_test_score']\n",
    "stds = grid_result.cv_results_['std_test_score']\n",
    "params = grid_result.cv_results_['params']\n",
    "for mean, stdev, param in zip(means, stds, params):\n",
    "    print(\"%f (%f) with: %r\" % (mean, stdev, param))"
   ]
  },
  {
   "cell_type": "code",
   "execution_count": null,
   "id": "5366bac5",
   "metadata": {},
   "outputs": [],
   "source": []
  }
 ],
 "metadata": {
  "kernelspec": {
   "display_name": "Python 3 (ipykernel)",
   "language": "python",
   "name": "python3"
  },
  "language_info": {
   "codemirror_mode": {
    "name": "ipython",
    "version": 3
   },
   "file_extension": ".py",
   "mimetype": "text/x-python",
   "name": "python",
   "nbconvert_exporter": "python",
   "pygments_lexer": "ipython3",
   "version": "3.7.9"
  }
 },
 "nbformat": 4,
 "nbformat_minor": 5
}
