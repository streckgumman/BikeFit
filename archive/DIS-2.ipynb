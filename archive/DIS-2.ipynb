{
 "cells": [
  {
   "cell_type": "code",
   "execution_count": 3,
   "id": "5c349153",
   "metadata": {},
   "outputs": [],
   "source": [
    "from bs4 import BeautifulSoup as bs\n",
    "import numpy as np\n",
    "import pandas as pd\n",
    "import matplotlib.pyplot as plt\n",
    "import seaborn as sns\n",
    "%matplotlib inline\n",
    "plt.style.use('seaborn-whitegrid')\n",
    "from sklearn.preprocessing import StandardScaler\n",
    "import os"
   ]
  },
  {
   "cell_type": "code",
   "execution_count": 4,
   "id": "fbcf7785",
   "metadata": {},
   "outputs": [],
   "source": [
    "def read_data(file):\n",
    "    with open(file, 'r') as f:\n",
    "        data = f.read()\n",
    "    bs_data = bs(data, 'xml') \n",
    "    return bs_data\n",
    "\n",
    "def calc(b_name, i):\n",
    "    a1 = b_name[i].find_all('component')[0].get('data')\n",
    "    b1 = b_name[i].find_all('component')[1].get('data')\n",
    "    c1 = b_name[i].find_all('component')[2].get('data')\n",
    "    x = np.asarray([float(x) for x in a1.split(',')])\n",
    "    y = np.asarray([float(y) for y in b1.split(',')])\n",
    "    z = np.asarray([float(z) for z in c1.split(',')])\n",
    "    r = (x**2 + y**2 + z**2)**0.5\n",
    "    return r\n",
    "\n",
    "def values_df(bs_data, low, high):\n",
    "    b_name = bs_data.find_all('name')\n",
    "    \n",
    "    Attributes = []\n",
    "    for i in range(len(b_name)):\n",
    "        Attributes.append(b_name[i].get('value'))\n",
    "    \n",
    "    Attributes = list(set(Attributes))\n",
    "    \n",
    "    Collection = {}\n",
    "    for i in range(low, high):\n",
    "        r = calc(b_name, i)\n",
    "        v = b_name[i].get('value')\n",
    "        Collection[v] = r\n",
    "    \n",
    "    df = pd.DataFrame(Collection)\n",
    "    return df\n",
    "\n",
    "def get_mean_values(attribute):\n",
    "    mean_list = []\n",
    "    for i in range(len(os.listdir(\"../Timeseries\"))):\n",
    "        if os.listdir(\"../Timeseries\")[i].startswith(\"timeseries\"):\n",
    "            try:\n",
    "                bs_data = read_data(os.listdir(\"../Timeseries\")[i])\n",
    "                df = values_df(bs_data,0,32)\n",
    "                k = df.mean()[attribute]\n",
    "                mean_list.append(k)\n",
    "            except:\n",
    "                print(os.listdir(\"../Timeseries\")[i] + \" failed to compute\")\n",
    "        else:\n",
    "            continue\n",
    "        \n",
    "    return mean_list\n"
   ]
  },
  {
   "cell_type": "code",
   "execution_count": 82,
   "id": "6903c889",
   "metadata": {},
   "outputs": [
    {
     "name": "stdout",
     "output_type": "stream",
     "text": [
      "timeseries-10.xml failed to compute\n",
      "timeseries-44.1.xml failed to compute\n",
      "timeseries-6.xml failed to compute\n"
     ]
    }
   ],
   "source": [
    "mean_lpa = []\n",
    "for i in range(len(os.listdir(\"../Timeseries\"))):\n",
    "    if os.listdir(\"../Timeseries\")[i].startswith(\"timeseries\"):\n",
    "        try:\n",
    "            bs_data = read_data(os.listdir(\"../Timeseries\")[i])\n",
    "            df = values_df(bs_data,0,32)\n",
    "            k = df.mean()['Left Pelvic Angles']\n",
    "            mean_lpa.append(k)\n",
    "        except:\n",
    "            print(os.listdir(\"../Timeseries\")[i] + \" failed to compute\")\n",
    "    else:\n",
    "        continue"
   ]
  },
  {
   "cell_type": "code",
   "execution_count": null,
   "id": "ab24378f",
   "metadata": {},
   "outputs": [],
   "source": []
  },
  {
   "cell_type": "code",
   "execution_count": 96,
   "id": "7f2f8cad",
   "metadata": {},
   "outputs": [
    {
     "name": "stdout",
     "output_type": "stream",
     "text": [
      "timeseries-10.xml failed to compute\n",
      "timeseries-44.1.xml failed to compute\n",
      "timeseries-6.xml failed to compute\n",
      "timeseries-10.xml failed to compute\n",
      "timeseries-44.1.xml failed to compute\n",
      "timeseries-6.xml failed to compute\n"
     ]
    },
    {
     "data": {
      "text/plain": [
       "Text(0.5, 1.0, 'Left Knee Angles')"
      ]
     },
     "execution_count": 96,
     "metadata": {},
     "output_type": "execute_result"
    },
    {
     "data": {
      "image/png": "[encoded data removed]",
      "text/plain": [
       "<Figure size 1008x576 with 2 Axes>"
      ]
     },
     "metadata": {},
     "output_type": "display_data"
    }
   ],
   "source": [
    "fig,ax = plt.subplots(1,2,figsize = (14,8))\n",
    "ax[0].scatter(np.arange(1,70),get_mean_values(\"Left Pelvic Angles\"))\n",
    "ax[0].set_title(\"Left Pelvic Angles\")\n",
    "\n",
    "ax[1].scatter(np.arange(1,70),get_mean_values(\"Left Knee Angles\"))\n",
    "ax[1].set_title(\"Left Knee Angles\")"
   ]
  },
  {
   "cell_type": "code",
   "execution_count": 73,
   "id": "4f54db4d",
   "metadata": {},
   "outputs": [],
   "source": []
  },
  {
   "cell_type": "code",
   "execution_count": null,
   "id": "ffc5582d",
   "metadata": {},
   "outputs": [],
   "source": []
  },
  {
   "cell_type": "code",
   "execution_count": null,
   "id": "dd3b4578",
   "metadata": {},
   "outputs": [],
   "source": []
  },
  {
   "cell_type": "code",
   "execution_count": null,
   "id": "ea17f4c0",
   "metadata": {},
   "outputs": [],
   "source": []
  },
  {
   "cell_type": "code",
   "execution_count": null,
   "id": "5cc58ac3",
   "metadata": {},
   "outputs": [],
   "source": []
  },
  {
   "cell_type": "code",
   "execution_count": null,
   "id": "a5a58db5",
   "metadata": {},
   "outputs": [],
   "source": []
  }
 ],
 "metadata": {
  "kernelspec": {
   "display_name": "Python 3 (ipykernel)",
   "language": "python",
   "name": "python3"
  },
  "language_info": {
   "codemirror_mode": {
    "name": "ipython",
    "version": 3
   },
   "file_extension": ".py",
   "mimetype": "text/x-python",
   "name": "python",
   "nbconvert_exporter": "python",
   "pygments_lexer": "ipython3",
   "version": "3.9.1"
  }
 },
 "nbformat": 4,
 "nbformat_minor": 5
}
